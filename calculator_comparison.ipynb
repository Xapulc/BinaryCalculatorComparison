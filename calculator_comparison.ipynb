{
 "cells": [
  {
   "cell_type": "code",
   "execution_count": null,
   "id": "initial_id",
   "metadata": {
    "collapsed": true
   },
   "outputs": [],
   "source": [
    "from scipy.stats import bernoulli\n",
    "\n",
    "from tools.simulation import Simulation\n",
    "from tools.simulation_params import SimulationParams\n",
    "from tools.distribution import DistributionCouple\n",
    "\n",
    "\n",
    "root = \"result_data\"\n",
    "alternative = \"two-sided\"\n",
    "alpha_list = [\n",
    "    0.001,\n",
    "    0.005,\n",
    "    0.01,\n",
    "    0.05\n",
    "]"
   ]
  }
 ],
 "metadata": {
  "kernelspec": {
   "display_name": "Python 3",
   "language": "python",
   "name": "python3"
  },
  "language_info": {
   "codemirror_mode": {
    "name": "ipython",
    "version": 2
   },
   "file_extension": ".py",
   "mimetype": "text/x-python",
   "name": "python",
   "nbconvert_exporter": "python",
   "pygments_lexer": "ipython2",
   "version": "2.7.6"
  }
 },
 "nbformat": 4,
 "nbformat_minor": 5
}
