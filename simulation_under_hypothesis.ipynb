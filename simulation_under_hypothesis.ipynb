{
 "cells": [
  {
   "cell_type": "code",
   "execution_count": 1,
   "id": "initial_id",
   "metadata": {
    "collapsed": true,
    "ExecuteTime": {
     "end_time": "2023-10-15T17:49:17.935954Z",
     "start_time": "2023-10-15T17:49:15.835316Z"
    }
   },
   "outputs": [],
   "source": [
    "from tools.p_value_simulation import PValueSimulation\n",
    "from tools.p_value_simulation_params import PValueSimulationParams"
   ]
  },
  {
   "cell_type": "code",
   "execution_count": 3,
   "outputs": [],
   "source": [
    "p_list = [\n",
    "    0.0001,\n",
    "    0.001,\n",
    "    0.01,\n",
    "    0.1,\n",
    "    0.5\n",
    "]\n",
    "\n",
    "sample_size_list = [{\n",
    "    \"x\": 10,\n",
    "    \"y\": 10\n",
    "}, {\n",
    "    \"x\": 10,\n",
    "    \"y\": 100\n",
    "}, {\n",
    "    \"x\": 100,\n",
    "    \"y\": 100\n",
    "}, {\n",
    "    \"x\": 100,\n",
    "    \"y\": 1000\n",
    "}, {\n",
    "    \"x\": 100,\n",
    "    \"y\": 10000\n",
    "}, {\n",
    "    \"x\": 1000,\n",
    "    \"y\": 1000\n",
    "}, {\n",
    "    \"x\": 1000,\n",
    "    \"y\": 10000\n",
    "}, {\n",
    "    \"x\": 1000,\n",
    "    \"y\": 100000\n",
    "}, {\n",
    "    \"x\": 1000,\n",
    "    \"y\": 1000000\n",
    "}, {\n",
    "    \"x\": 10000,\n",
    "    \"y\": 10000\n",
    "}, {\n",
    "    \"x\": 10000,\n",
    "    \"y\": 100000\n",
    "}, {\n",
    "    \"x\": 10000,\n",
    "    \"y\": 1000000\n",
    "}, {\n",
    "    \"x\": 10000,\n",
    "    \"y\": 10000000\n",
    "}, {\n",
    "    \"x\": 10000,\n",
    "    \"y\": 100000000\n",
    "}]\n",
    "\n",
    "dir_list=[\"simulation_under_hypothesis\", \"first_simulation\"]"
   ],
   "metadata": {
    "collapsed": false,
    "ExecuteTime": {
     "end_time": "2023-10-15T17:49:27.410728Z",
     "start_time": "2023-10-15T17:49:27.396930Z"
    }
   },
   "id": "39aa9b0936abf87d"
  },
  {
   "cell_type": "code",
   "execution_count": 3,
   "outputs": [
    {
     "name": "stdout",
     "output_type": "stream",
     "text": [
      "x_p=0.0001, y_p=0.0001, x_sample_size=10, y_sample_size=10\n",
      "x_p=0.0001, y_p=0.0001, x_sample_size=10, y_sample_size=100\n",
      "x_p=0.0001, y_p=0.0001, x_sample_size=100, y_sample_size=100\n",
      "x_p=0.0001, y_p=0.0001, x_sample_size=100, y_sample_size=1000\n",
      "x_p=0.0001, y_p=0.0001, x_sample_size=100, y_sample_size=10000\n",
      "x_p=0.0001, y_p=0.0001, x_sample_size=1000, y_sample_size=1000\n",
      "x_p=0.0001, y_p=0.0001, x_sample_size=1000, y_sample_size=10000\n",
      "x_p=0.0001, y_p=0.0001, x_sample_size=1000, y_sample_size=100000\n",
      "x_p=0.0001, y_p=0.0001, x_sample_size=1000, y_sample_size=1000000\n",
      "x_p=0.0001, y_p=0.0001, x_sample_size=10000, y_sample_size=10000\n",
      "x_p=0.0001, y_p=0.0001, x_sample_size=10000, y_sample_size=100000\n",
      "x_p=0.0001, y_p=0.0001, x_sample_size=10000, y_sample_size=1000000\n",
      "x_p=0.0001, y_p=0.0001, x_sample_size=10000, y_sample_size=10000000\n",
      "x_p=0.0001, y_p=0.0001, x_sample_size=10000, y_sample_size=100000000\n",
      "x_p=0.001, y_p=0.001, x_sample_size=10, y_sample_size=10\n",
      "x_p=0.001, y_p=0.001, x_sample_size=10, y_sample_size=100\n",
      "x_p=0.001, y_p=0.001, x_sample_size=100, y_sample_size=100\n",
      "x_p=0.001, y_p=0.001, x_sample_size=100, y_sample_size=1000\n",
      "x_p=0.001, y_p=0.001, x_sample_size=100, y_sample_size=10000\n",
      "x_p=0.001, y_p=0.001, x_sample_size=1000, y_sample_size=1000\n",
      "x_p=0.001, y_p=0.001, x_sample_size=1000, y_sample_size=10000\n",
      "x_p=0.001, y_p=0.001, x_sample_size=1000, y_sample_size=100000\n",
      "x_p=0.001, y_p=0.001, x_sample_size=1000, y_sample_size=1000000\n",
      "x_p=0.001, y_p=0.001, x_sample_size=10000, y_sample_size=10000\n",
      "x_p=0.001, y_p=0.001, x_sample_size=10000, y_sample_size=100000\n",
      "x_p=0.001, y_p=0.001, x_sample_size=10000, y_sample_size=1000000\n",
      "x_p=0.001, y_p=0.001, x_sample_size=10000, y_sample_size=10000000\n",
      "x_p=0.001, y_p=0.001, x_sample_size=10000, y_sample_size=100000000\n",
      "x_p=0.01, y_p=0.01, x_sample_size=10, y_sample_size=10\n",
      "x_p=0.01, y_p=0.01, x_sample_size=10, y_sample_size=100\n",
      "x_p=0.01, y_p=0.01, x_sample_size=100, y_sample_size=100\n",
      "x_p=0.01, y_p=0.01, x_sample_size=100, y_sample_size=1000\n",
      "x_p=0.01, y_p=0.01, x_sample_size=100, y_sample_size=10000\n",
      "x_p=0.01, y_p=0.01, x_sample_size=1000, y_sample_size=1000\n",
      "x_p=0.01, y_p=0.01, x_sample_size=1000, y_sample_size=10000\n",
      "x_p=0.01, y_p=0.01, x_sample_size=1000, y_sample_size=100000\n",
      "x_p=0.01, y_p=0.01, x_sample_size=1000, y_sample_size=1000000\n",
      "x_p=0.01, y_p=0.01, x_sample_size=10000, y_sample_size=10000\n",
      "x_p=0.01, y_p=0.01, x_sample_size=10000, y_sample_size=100000\n",
      "x_p=0.01, y_p=0.01, x_sample_size=10000, y_sample_size=1000000\n",
      "x_p=0.01, y_p=0.01, x_sample_size=10000, y_sample_size=10000000\n",
      "x_p=0.01, y_p=0.01, x_sample_size=10000, y_sample_size=100000000\n",
      "x_p=0.1, y_p=0.1, x_sample_size=10, y_sample_size=10\n",
      "x_p=0.1, y_p=0.1, x_sample_size=10, y_sample_size=100\n",
      "x_p=0.1, y_p=0.1, x_sample_size=100, y_sample_size=100\n",
      "x_p=0.1, y_p=0.1, x_sample_size=100, y_sample_size=1000\n",
      "x_p=0.1, y_p=0.1, x_sample_size=100, y_sample_size=10000\n",
      "x_p=0.1, y_p=0.1, x_sample_size=1000, y_sample_size=1000\n",
      "x_p=0.1, y_p=0.1, x_sample_size=1000, y_sample_size=10000\n",
      "x_p=0.1, y_p=0.1, x_sample_size=1000, y_sample_size=100000\n",
      "x_p=0.1, y_p=0.1, x_sample_size=1000, y_sample_size=1000000\n",
      "x_p=0.1, y_p=0.1, x_sample_size=10000, y_sample_size=10000\n",
      "x_p=0.1, y_p=0.1, x_sample_size=10000, y_sample_size=100000\n",
      "x_p=0.1, y_p=0.1, x_sample_size=10000, y_sample_size=1000000\n",
      "x_p=0.1, y_p=0.1, x_sample_size=10000, y_sample_size=10000000\n",
      "x_p=0.1, y_p=0.1, x_sample_size=10000, y_sample_size=100000000\n",
      "Fisher’s exact test\n"
     ]
    },
    {
     "name": "stderr",
     "output_type": "stream",
     "text": [
      "100%|██████████| 50000/50000 [01:00<00:00, 821.02it/s]\n"
     ]
    },
    {
     "name": "stdout",
     "output_type": "stream",
     "text": [
      "1.218 ms per sample\n",
      "G-test\n"
     ]
    },
    {
     "name": "stderr",
     "output_type": "stream",
     "text": [
      "100%|██████████| 50000/50000 [00:07<00:00, 6768.27it/s]\n"
     ]
    },
    {
     "name": "stdout",
     "output_type": "stream",
     "text": [
      "0.148 ms per sample\n",
      "Poisson means test\n"
     ]
    },
    {
     "name": "stderr",
     "output_type": "stream",
     "text": [
      "100%|██████████| 50000/50000 [4:16:23<00:00,  3.25it/s]  \n"
     ]
    },
    {
     "name": "stdout",
     "output_type": "stream",
     "text": [
      "307.678 ms per sample\n",
      "Z-test\n"
     ]
    },
    {
     "name": "stderr",
     "output_type": "stream",
     "text": [
      "100%|██████████| 50000/50000 [00:03<00:00, 12934.82it/s]\n"
     ]
    },
    {
     "name": "stdout",
     "output_type": "stream",
     "text": [
      "0.077 ms per sample\n",
      "Chi-square test\n"
     ]
    },
    {
     "name": "stderr",
     "output_type": "stream",
     "text": [
      "100%|██████████| 50000/50000 [00:05<00:00, 8359.88it/s]\n"
     ]
    },
    {
     "name": "stdout",
     "output_type": "stream",
     "text": [
      "0.120 ms per sample\n",
      "x_p=0.5, y_p=0.5, x_sample_size=10, y_sample_size=10\n",
      "Fisher’s exact test\n"
     ]
    },
    {
     "name": "stderr",
     "output_type": "stream",
     "text": [
      "100%|██████████| 50000/50000 [00:18<00:00, 2643.35it/s]\n"
     ]
    },
    {
     "name": "stdout",
     "output_type": "stream",
     "text": [
      "0.378 ms per sample\n",
      "G-test\n"
     ]
    },
    {
     "name": "stderr",
     "output_type": "stream",
     "text": [
      "100%|██████████| 50000/50000 [00:06<00:00, 7509.42it/s]\n"
     ]
    },
    {
     "name": "stdout",
     "output_type": "stream",
     "text": [
      "0.133 ms per sample\n",
      "Poisson means test\n"
     ]
    },
    {
     "name": "stderr",
     "output_type": "stream",
     "text": [
      "100%|██████████| 50000/50000 [00:14<00:00, 3348.85it/s]\n"
     ]
    },
    {
     "name": "stdout",
     "output_type": "stream",
     "text": [
      "0.299 ms per sample\n",
      "Z-test\n"
     ]
    },
    {
     "name": "stderr",
     "output_type": "stream",
     "text": [
      "100%|██████████| 50000/50000 [00:04<00:00, 12362.35it/s]\n"
     ]
    },
    {
     "name": "stdout",
     "output_type": "stream",
     "text": [
      "0.081 ms per sample\n",
      "Chi-square test\n"
     ]
    },
    {
     "name": "stderr",
     "output_type": "stream",
     "text": [
      "100%|██████████| 50000/50000 [00:05<00:00, 8815.61it/s]\n"
     ]
    },
    {
     "name": "stdout",
     "output_type": "stream",
     "text": [
      "0.113 ms per sample\n",
      "x_p=0.5, y_p=0.5, x_sample_size=10, y_sample_size=100\n",
      "Fisher’s exact test\n"
     ]
    },
    {
     "name": "stderr",
     "output_type": "stream",
     "text": [
      "100%|██████████| 50000/50000 [00:24<00:00, 2067.99it/s]\n"
     ]
    },
    {
     "name": "stdout",
     "output_type": "stream",
     "text": [
      "0.484 ms per sample\n",
      "G-test\n"
     ]
    },
    {
     "name": "stderr",
     "output_type": "stream",
     "text": [
      "100%|██████████| 50000/50000 [00:06<00:00, 7199.27it/s]\n"
     ]
    },
    {
     "name": "stdout",
     "output_type": "stream",
     "text": [
      "0.139 ms per sample\n",
      "Poisson means test\n"
     ]
    },
    {
     "name": "stderr",
     "output_type": "stream",
     "text": [
      "100%|██████████| 50000/50000 [00:15<00:00, 3157.14it/s]\n"
     ]
    },
    {
     "name": "stdout",
     "output_type": "stream",
     "text": [
      "0.317 ms per sample\n",
      "Z-test\n"
     ]
    },
    {
     "name": "stderr",
     "output_type": "stream",
     "text": [
      "100%|██████████| 50000/50000 [00:03<00:00, 13097.42it/s]\n"
     ]
    },
    {
     "name": "stdout",
     "output_type": "stream",
     "text": [
      "0.076 ms per sample\n",
      "Chi-square test\n"
     ]
    },
    {
     "name": "stderr",
     "output_type": "stream",
     "text": [
      "100%|██████████| 50000/50000 [00:05<00:00, 8593.39it/s]\n"
     ]
    },
    {
     "name": "stdout",
     "output_type": "stream",
     "text": [
      "0.116 ms per sample\n",
      "x_p=0.5, y_p=0.5, x_sample_size=100, y_sample_size=100\n",
      "Fisher’s exact test\n"
     ]
    },
    {
     "name": "stderr",
     "output_type": "stream",
     "text": [
      "100%|██████████| 50000/50000 [00:34<00:00, 1468.15it/s]\n"
     ]
    },
    {
     "name": "stdout",
     "output_type": "stream",
     "text": [
      "0.681 ms per sample\n",
      "G-test\n"
     ]
    },
    {
     "name": "stderr",
     "output_type": "stream",
     "text": [
      "100%|██████████| 50000/50000 [00:07<00:00, 7048.43it/s]\n"
     ]
    },
    {
     "name": "stdout",
     "output_type": "stream",
     "text": [
      "0.142 ms per sample\n",
      "Poisson means test\n"
     ]
    },
    {
     "name": "stderr",
     "output_type": "stream",
     "text": [
      "100%|██████████| 50000/50000 [00:17<00:00, 2782.87it/s]\n"
     ]
    },
    {
     "name": "stdout",
     "output_type": "stream",
     "text": [
      "0.359 ms per sample\n",
      "Z-test\n"
     ]
    },
    {
     "name": "stderr",
     "output_type": "stream",
     "text": [
      "100%|██████████| 50000/50000 [00:03<00:00, 13038.44it/s]\n"
     ]
    },
    {
     "name": "stdout",
     "output_type": "stream",
     "text": [
      "0.077 ms per sample\n",
      "Chi-square test\n"
     ]
    },
    {
     "name": "stderr",
     "output_type": "stream",
     "text": [
      "100%|██████████| 50000/50000 [00:05<00:00, 8569.18it/s]\n"
     ]
    },
    {
     "name": "stdout",
     "output_type": "stream",
     "text": [
      "0.117 ms per sample\n",
      "x_p=0.5, y_p=0.5, x_sample_size=100, y_sample_size=1000\n",
      "Fisher’s exact test\n"
     ]
    },
    {
     "name": "stderr",
     "output_type": "stream",
     "text": [
      "100%|██████████| 50000/50000 [00:38<00:00, 1292.36it/s]\n"
     ]
    },
    {
     "name": "stdout",
     "output_type": "stream",
     "text": [
      "0.774 ms per sample\n",
      "G-test\n"
     ]
    },
    {
     "name": "stderr",
     "output_type": "stream",
     "text": [
      "100%|██████████| 50000/50000 [00:07<00:00, 6918.89it/s]\n"
     ]
    },
    {
     "name": "stdout",
     "output_type": "stream",
     "text": [
      "0.145 ms per sample\n",
      "Poisson means test\n"
     ]
    },
    {
     "name": "stderr",
     "output_type": "stream",
     "text": [
      "100%|██████████| 50000/50000 [00:24<00:00, 2021.83it/s]\n"
     ]
    },
    {
     "name": "stdout",
     "output_type": "stream",
     "text": [
      "0.495 ms per sample\n",
      "Z-test\n"
     ]
    },
    {
     "name": "stderr",
     "output_type": "stream",
     "text": [
      "100%|██████████| 50000/50000 [00:03<00:00, 13094.75it/s]\n"
     ]
    },
    {
     "name": "stdout",
     "output_type": "stream",
     "text": [
      "0.076 ms per sample\n",
      "Chi-square test\n"
     ]
    },
    {
     "name": "stderr",
     "output_type": "stream",
     "text": [
      "100%|██████████| 50000/50000 [00:05<00:00, 8446.82it/s]\n"
     ]
    },
    {
     "name": "stdout",
     "output_type": "stream",
     "text": [
      "0.118 ms per sample\n",
      "x_p=0.5, y_p=0.5, x_sample_size=100, y_sample_size=10000\n",
      "Fisher’s exact test\n"
     ]
    },
    {
     "name": "stderr",
     "output_type": "stream",
     "text": [
      "100%|██████████| 50000/50000 [00:45<00:00, 1100.06it/s]\n"
     ]
    },
    {
     "name": "stdout",
     "output_type": "stream",
     "text": [
      "0.909 ms per sample\n",
      "G-test\n"
     ]
    },
    {
     "name": "stderr",
     "output_type": "stream",
     "text": [
      "100%|██████████| 50000/50000 [00:07<00:00, 6959.19it/s]\n"
     ]
    },
    {
     "name": "stdout",
     "output_type": "stream",
     "text": [
      "0.144 ms per sample\n",
      "Poisson means test\n"
     ]
    },
    {
     "name": "stderr",
     "output_type": "stream",
     "text": [
      "100%|██████████| 50000/50000 [01:21<00:00, 614.72it/s]\n"
     ]
    },
    {
     "name": "stdout",
     "output_type": "stream",
     "text": [
      "1.627 ms per sample\n",
      "Z-test\n"
     ]
    },
    {
     "name": "stderr",
     "output_type": "stream",
     "text": [
      "100%|██████████| 50000/50000 [00:03<00:00, 12898.09it/s]\n"
     ]
    },
    {
     "name": "stdout",
     "output_type": "stream",
     "text": [
      "0.078 ms per sample\n",
      "Chi-square test\n"
     ]
    },
    {
     "name": "stderr",
     "output_type": "stream",
     "text": [
      "100%|██████████| 50000/50000 [00:05<00:00, 8408.23it/s]\n"
     ]
    },
    {
     "name": "stdout",
     "output_type": "stream",
     "text": [
      "0.119 ms per sample\n",
      "x_p=0.5, y_p=0.5, x_sample_size=1000, y_sample_size=1000\n",
      "Fisher’s exact test\n"
     ]
    },
    {
     "name": "stderr",
     "output_type": "stream",
     "text": [
      "100%|██████████| 50000/50000 [00:50<00:00, 999.46it/s] \n"
     ]
    },
    {
     "name": "stdout",
     "output_type": "stream",
     "text": [
      "1.001 ms per sample\n",
      "G-test\n"
     ]
    },
    {
     "name": "stderr",
     "output_type": "stream",
     "text": [
      "100%|██████████| 50000/50000 [00:07<00:00, 6868.87it/s]\n"
     ]
    },
    {
     "name": "stdout",
     "output_type": "stream",
     "text": [
      "0.146 ms per sample\n",
      "Poisson means test\n"
     ]
    },
    {
     "name": "stderr",
     "output_type": "stream",
     "text": [
      "100%|██████████| 50000/50000 [01:06<00:00, 747.93it/s] \n"
     ]
    },
    {
     "name": "stdout",
     "output_type": "stream",
     "text": [
      "1.337 ms per sample\n",
      "Z-test\n"
     ]
    },
    {
     "name": "stderr",
     "output_type": "stream",
     "text": [
      "100%|██████████| 50000/50000 [00:03<00:00, 12982.27it/s]\n"
     ]
    },
    {
     "name": "stdout",
     "output_type": "stream",
     "text": [
      "0.077 ms per sample\n",
      "Chi-square test\n"
     ]
    },
    {
     "name": "stderr",
     "output_type": "stream",
     "text": [
      "100%|██████████| 50000/50000 [00:05<00:00, 8520.37it/s]\n"
     ]
    },
    {
     "name": "stdout",
     "output_type": "stream",
     "text": [
      "0.117 ms per sample\n",
      "x_p=0.5, y_p=0.5, x_sample_size=1000, y_sample_size=10000\n",
      "Fisher’s exact test\n"
     ]
    },
    {
     "name": "stderr",
     "output_type": "stream",
     "text": [
      "100%|██████████| 50000/50000 [01:01<00:00, 818.00it/s]\n"
     ]
    },
    {
     "name": "stdout",
     "output_type": "stream",
     "text": [
      "1.223 ms per sample\n",
      "G-test\n"
     ]
    },
    {
     "name": "stderr",
     "output_type": "stream",
     "text": [
      "100%|██████████| 50000/50000 [00:07<00:00, 6868.13it/s]\n"
     ]
    },
    {
     "name": "stdout",
     "output_type": "stream",
     "text": [
      "0.146 ms per sample\n",
      "Poisson means test\n"
     ]
    },
    {
     "name": "stderr",
     "output_type": "stream",
     "text": [
      "100%|██████████| 50000/50000 [04:17<00:00, 193.82it/s]\n"
     ]
    },
    {
     "name": "stdout",
     "output_type": "stream",
     "text": [
      "5.160 ms per sample\n",
      "Z-test\n"
     ]
    },
    {
     "name": "stderr",
     "output_type": "stream",
     "text": [
      "100%|██████████| 50000/50000 [00:03<00:00, 12888.25it/s]\n"
     ]
    },
    {
     "name": "stdout",
     "output_type": "stream",
     "text": [
      "0.078 ms per sample\n",
      "Chi-square test\n"
     ]
    },
    {
     "name": "stderr",
     "output_type": "stream",
     "text": [
      "100%|██████████| 50000/50000 [00:05<00:00, 8403.11it/s]\n"
     ]
    },
    {
     "name": "stdout",
     "output_type": "stream",
     "text": [
      "0.119 ms per sample\n",
      "x_p=0.5, y_p=0.5, x_sample_size=1000, y_sample_size=100000\n",
      "Fisher’s exact test\n"
     ]
    },
    {
     "name": "stderr",
     "output_type": "stream",
     "text": [
      "100%|██████████| 50000/50000 [02:09<00:00, 386.30it/s]\n"
     ]
    },
    {
     "name": "stdout",
     "output_type": "stream",
     "text": [
      "2.589 ms per sample\n",
      "G-test\n"
     ]
    },
    {
     "name": "stderr",
     "output_type": "stream",
     "text": [
      "100%|██████████| 50000/50000 [00:07<00:00, 6796.57it/s]\n"
     ]
    },
    {
     "name": "stdout",
     "output_type": "stream",
     "text": [
      "0.147 ms per sample\n",
      "Poisson means test\n"
     ]
    },
    {
     "name": "stderr",
     "output_type": "stream",
     "text": [
      "100%|██████████| 50000/50000 [12:54<00:00, 64.52it/s]\n"
     ]
    },
    {
     "name": "stdout",
     "output_type": "stream",
     "text": [
      "15.499 ms per sample\n",
      "Z-test\n"
     ]
    },
    {
     "name": "stderr",
     "output_type": "stream",
     "text": [
      "100%|██████████| 50000/50000 [00:03<00:00, 12765.86it/s]\n"
     ]
    },
    {
     "name": "stdout",
     "output_type": "stream",
     "text": [
      "0.078 ms per sample\n",
      "Chi-square test\n"
     ]
    },
    {
     "name": "stderr",
     "output_type": "stream",
     "text": [
      "100%|██████████| 50000/50000 [00:05<00:00, 8427.78it/s]\n"
     ]
    },
    {
     "name": "stdout",
     "output_type": "stream",
     "text": [
      "0.119 ms per sample\n",
      "x_p=0.5, y_p=0.5, x_sample_size=1000, y_sample_size=1000000\n",
      "Fisher’s exact test\n"
     ]
    },
    {
     "name": "stderr",
     "output_type": "stream",
     "text": [
      "100%|██████████| 50000/50000 [00:50<00:00, 980.85it/s] \n"
     ]
    },
    {
     "name": "stdout",
     "output_type": "stream",
     "text": [
      "1.020 ms per sample\n",
      "G-test\n"
     ]
    },
    {
     "name": "stderr",
     "output_type": "stream",
     "text": [
      "100%|██████████| 50000/50000 [00:07<00:00, 6811.62it/s]\n"
     ]
    },
    {
     "name": "stdout",
     "output_type": "stream",
     "text": [
      "0.147 ms per sample\n",
      "Poisson means test\n"
     ]
    },
    {
     "name": "stderr",
     "output_type": "stream",
     "text": [
      "100%|██████████| 50000/50000 [40:10<00:00, 20.74it/s]\n"
     ]
    },
    {
     "name": "stdout",
     "output_type": "stream",
     "text": [
      "48.219 ms per sample\n",
      "Z-test\n"
     ]
    },
    {
     "name": "stderr",
     "output_type": "stream",
     "text": [
      "100%|██████████| 50000/50000 [00:03<00:00, 12912.05it/s]\n"
     ]
    },
    {
     "name": "stdout",
     "output_type": "stream",
     "text": [
      "0.077 ms per sample\n",
      "Chi-square test\n"
     ]
    },
    {
     "name": "stderr",
     "output_type": "stream",
     "text": [
      "100%|██████████| 50000/50000 [00:07<00:00, 7040.15it/s]\n"
     ]
    },
    {
     "name": "stdout",
     "output_type": "stream",
     "text": [
      "0.142 ms per sample\n",
      "x_p=0.5, y_p=0.5, x_sample_size=10000, y_sample_size=10000\n",
      "Fisher’s exact test\n"
     ]
    },
    {
     "name": "stderr",
     "output_type": "stream",
     "text": [
      "100%|██████████| 50000/50000 [01:25<00:00, 582.27it/s]\n"
     ]
    },
    {
     "name": "stdout",
     "output_type": "stream",
     "text": [
      "1.717 ms per sample\n",
      "G-test\n"
     ]
    },
    {
     "name": "stderr",
     "output_type": "stream",
     "text": [
      "100%|██████████| 50000/50000 [00:07<00:00, 6819.74it/s]\n"
     ]
    },
    {
     "name": "stdout",
     "output_type": "stream",
     "text": [
      "0.147 ms per sample\n",
      "Poisson means test\n"
     ]
    },
    {
     "name": "stderr",
     "output_type": "stream",
     "text": [
      "100%|██████████| 50000/50000 [12:38<00:00, 65.90it/s]\n"
     ]
    },
    {
     "name": "stdout",
     "output_type": "stream",
     "text": [
      "15.175 ms per sample\n",
      "Z-test\n"
     ]
    },
    {
     "name": "stderr",
     "output_type": "stream",
     "text": [
      "100%|██████████| 50000/50000 [00:03<00:00, 12646.74it/s]\n"
     ]
    },
    {
     "name": "stdout",
     "output_type": "stream",
     "text": [
      "0.079 ms per sample\n",
      "Chi-square test\n"
     ]
    },
    {
     "name": "stderr",
     "output_type": "stream",
     "text": [
      "100%|██████████| 50000/50000 [00:05<00:00, 8401.64it/s]\n"
     ]
    },
    {
     "name": "stdout",
     "output_type": "stream",
     "text": [
      "0.119 ms per sample\n",
      "x_p=0.5, y_p=0.5, x_sample_size=10000, y_sample_size=100000\n",
      "Fisher’s exact test\n"
     ]
    },
    {
     "name": "stderr",
     "output_type": "stream",
     "text": [
      "100%|██████████| 50000/50000 [01:03<00:00, 787.11it/s]\n"
     ]
    },
    {
     "name": "stdout",
     "output_type": "stream",
     "text": [
      "1.270 ms per sample\n",
      "G-test\n"
     ]
    },
    {
     "name": "stderr",
     "output_type": "stream",
     "text": [
      "100%|██████████| 50000/50000 [00:07<00:00, 6820.24it/s]\n"
     ]
    },
    {
     "name": "stdout",
     "output_type": "stream",
     "text": [
      "0.147 ms per sample\n",
      "Poisson means test\n"
     ]
    },
    {
     "name": "stderr",
     "output_type": "stream",
     "text": [
      "100%|██████████| 50000/50000 [45:24<00:00, 18.35it/s]\n"
     ]
    },
    {
     "name": "stdout",
     "output_type": "stream",
     "text": [
      "54.481 ms per sample\n",
      "Z-test\n"
     ]
    },
    {
     "name": "stderr",
     "output_type": "stream",
     "text": [
      "100%|██████████| 50000/50000 [00:03<00:00, 12903.85it/s]\n"
     ]
    },
    {
     "name": "stdout",
     "output_type": "stream",
     "text": [
      "0.078 ms per sample\n",
      "Chi-square test\n"
     ]
    },
    {
     "name": "stderr",
     "output_type": "stream",
     "text": [
      "100%|██████████| 50000/50000 [00:05<00:00, 8340.24it/s]\n"
     ]
    },
    {
     "name": "stdout",
     "output_type": "stream",
     "text": [
      "0.120 ms per sample\n",
      "x_p=0.5, y_p=0.5, x_sample_size=10000, y_sample_size=1000000\n",
      "Fisher’s exact test\n"
     ]
    },
    {
     "name": "stderr",
     "output_type": "stream",
     "text": [
      "100%|██████████| 50000/50000 [01:03<00:00, 785.44it/s]\n"
     ]
    },
    {
     "name": "stdout",
     "output_type": "stream",
     "text": [
      "1.273 ms per sample\n",
      "G-test\n"
     ]
    },
    {
     "name": "stderr",
     "output_type": "stream",
     "text": [
      "100%|██████████| 50000/50000 [00:07<00:00, 6706.94it/s]\n"
     ]
    },
    {
     "name": "stdout",
     "output_type": "stream",
     "text": [
      "0.149 ms per sample\n",
      "Poisson means test\n"
     ]
    },
    {
     "name": "stderr",
     "output_type": "stream",
     "text": [
      "100%|██████████| 50000/50000 [2:24:27<00:00,  5.77it/s]  \n"
     ]
    },
    {
     "name": "stdout",
     "output_type": "stream",
     "text": [
      "173.348 ms per sample\n",
      "Z-test\n"
     ]
    },
    {
     "name": "stderr",
     "output_type": "stream",
     "text": [
      "100%|██████████| 50000/50000 [00:03<00:00, 12896.62it/s]\n"
     ]
    },
    {
     "name": "stdout",
     "output_type": "stream",
     "text": [
      "0.078 ms per sample\n",
      "Chi-square test\n"
     ]
    },
    {
     "name": "stderr",
     "output_type": "stream",
     "text": [
      "100%|██████████| 50000/50000 [00:05<00:00, 8431.80it/s]\n"
     ]
    },
    {
     "name": "stdout",
     "output_type": "stream",
     "text": [
      "0.119 ms per sample\n",
      "x_p=0.5, y_p=0.5, x_sample_size=10000, y_sample_size=10000000\n",
      "Fisher’s exact test\n"
     ]
    },
    {
     "name": "stderr",
     "output_type": "stream",
     "text": [
      "100%|██████████| 50000/50000 [01:04<00:00, 780.63it/s]\n"
     ]
    },
    {
     "name": "stdout",
     "output_type": "stream",
     "text": [
      "1.281 ms per sample\n",
      "G-test\n"
     ]
    },
    {
     "name": "stderr",
     "output_type": "stream",
     "text": [
      "100%|██████████| 50000/50000 [00:07<00:00, 6808.48it/s]\n"
     ]
    },
    {
     "name": "stdout",
     "output_type": "stream",
     "text": [
      "0.147 ms per sample\n",
      "Poisson means test\n"
     ]
    },
    {
     "name": "stderr",
     "output_type": "stream",
     "text": [
      "  9%|▉         | 4730/50000 [42:22<6:45:35,  1.86it/s]\n"
     ]
    },
    {
     "ename": "KeyboardInterrupt",
     "evalue": "",
     "output_type": "error",
     "traceback": [
      "\u001B[1;31m---------------------------------------------------------------------------\u001B[0m",
      "\u001B[1;31mKeyboardInterrupt\u001B[0m                         Traceback (most recent call last)",
      "\u001B[1;32m~\\AppData\\Local\\Temp/ipykernel_17036/3744105177.py\u001B[0m in \u001B[0;36m<module>\u001B[1;34m\u001B[0m\n\u001B[0;32m      9\u001B[0m                               dir_list=dir_list)\n\u001B[0;32m     10\u001B[0m \u001B[1;33m\u001B[0m\u001B[0m\n\u001B[1;32m---> 11\u001B[1;33m simulation.simulate(random_state=42,\n\u001B[0m\u001B[0;32m     12\u001B[0m                     custom_test_name_list=[\"Fisher’s exact test\", \n\u001B[0;32m     13\u001B[0m                                            \u001B[1;34m\"G-test\"\u001B[0m\u001B[1;33m,\u001B[0m\u001B[1;33m\u001B[0m\u001B[1;33m\u001B[0m\u001B[0m\n",
      "\u001B[1;32m~\\DataspellProjects\\BinaryCalculatorComparison\\tools\\p_value_simulation.py\u001B[0m in \u001B[0;36msimulate\u001B[1;34m(self, random_state, custom_test_name_list, rewrite_result, tqdm_disable)\u001B[0m\n\u001B[0;32m    134\u001B[0m                     \u001B[0mp_value_list\u001B[0m \u001B[1;33m=\u001B[0m \u001B[1;33m[\u001B[0m\u001B[1;33m]\u001B[0m\u001B[1;33m\u001B[0m\u001B[1;33m\u001B[0m\u001B[0m\n\u001B[0;32m    135\u001B[0m                     \u001B[1;32mfor\u001B[0m \u001B[0mj\u001B[0m \u001B[1;32min\u001B[0m \u001B[0mtqdm\u001B[0m\u001B[1;33m(\u001B[0m\u001B[0mrange\u001B[0m\u001B[1;33m(\u001B[0m\u001B[0msimulation_params\u001B[0m\u001B[1;33m.\u001B[0m\u001B[0miter_size\u001B[0m\u001B[1;33m)\u001B[0m\u001B[1;33m,\u001B[0m \u001B[0mdisable\u001B[0m\u001B[1;33m=\u001B[0m\u001B[0mtqdm_disable\u001B[0m\u001B[1;33m)\u001B[0m\u001B[1;33m:\u001B[0m\u001B[1;33m\u001B[0m\u001B[1;33m\u001B[0m\u001B[0m\n\u001B[1;32m--> 136\u001B[1;33m                         p_value = self._test_list_result(x[j], y[j],\n\u001B[0m\u001B[0;32m    137\u001B[0m                                                          \u001B[0msimulation_params\u001B[0m\u001B[1;33m.\u001B[0m\u001B[0mx_sample_size\u001B[0m\u001B[1;33m,\u001B[0m\u001B[1;33m\u001B[0m\u001B[1;33m\u001B[0m\u001B[0m\n\u001B[0;32m    138\u001B[0m                                                          \u001B[0msimulation_params\u001B[0m\u001B[1;33m.\u001B[0m\u001B[0my_sample_size\u001B[0m\u001B[1;33m,\u001B[0m\u001B[1;33m\u001B[0m\u001B[1;33m\u001B[0m\u001B[0m\n",
      "\u001B[1;32m~\\DataspellProjects\\BinaryCalculatorComparison\\tools\\p_value_simulation.py\u001B[0m in \u001B[0;36m_test_list_result\u001B[1;34m(self, x_k, y_k, x_n, y_n, test_name)\u001B[0m\n\u001B[0;32m     88\u001B[0m         \u001B[0mtest\u001B[0m \u001B[1;33m=\u001B[0m \u001B[0mtest_list\u001B[0m\u001B[1;33m[\u001B[0m\u001B[1;36m0\u001B[0m\u001B[1;33m]\u001B[0m\u001B[1;33m\u001B[0m\u001B[1;33m\u001B[0m\u001B[0m\n\u001B[0;32m     89\u001B[0m \u001B[1;33m\u001B[0m\u001B[0m\n\u001B[1;32m---> 90\u001B[1;33m         \u001B[1;32mreturn\u001B[0m \u001B[0mtest\u001B[0m\u001B[1;33m[\u001B[0m\u001B[1;34m\"p_value\"\u001B[0m\u001B[1;33m]\u001B[0m\u001B[1;33m(\u001B[0m\u001B[0mx_k\u001B[0m\u001B[1;33m,\u001B[0m \u001B[0my_k\u001B[0m\u001B[1;33m,\u001B[0m \u001B[0mx_n\u001B[0m\u001B[1;33m,\u001B[0m \u001B[0my_n\u001B[0m\u001B[1;33m)\u001B[0m\u001B[1;33m\u001B[0m\u001B[1;33m\u001B[0m\u001B[0m\n\u001B[0m\u001B[0;32m     91\u001B[0m \u001B[1;33m\u001B[0m\u001B[0m\n\u001B[0;32m     92\u001B[0m     \u001B[1;32mdef\u001B[0m \u001B[0msimulate\u001B[0m\u001B[1;33m(\u001B[0m\u001B[0mself\u001B[0m\u001B[1;33m,\u001B[0m \u001B[0mrandom_state\u001B[0m\u001B[1;33m=\u001B[0m\u001B[1;32mNone\u001B[0m\u001B[1;33m,\u001B[0m \u001B[0mcustom_test_name_list\u001B[0m\u001B[1;33m=\u001B[0m\u001B[1;32mNone\u001B[0m\u001B[1;33m,\u001B[0m \u001B[0mrewrite_result\u001B[0m\u001B[1;33m=\u001B[0m\u001B[1;32mFalse\u001B[0m\u001B[1;33m,\u001B[0m \u001B[0mtqdm_disable\u001B[0m\u001B[1;33m=\u001B[0m\u001B[1;32mTrue\u001B[0m\u001B[1;33m)\u001B[0m\u001B[1;33m:\u001B[0m\u001B[1;33m\u001B[0m\u001B[1;33m\u001B[0m\u001B[0m\n",
      "\u001B[1;32m~\\DataspellProjects\\BinaryCalculatorComparison\\tools\\p_value_simulation.py\u001B[0m in \u001B[0;36m<lambda>\u001B[1;34m(x_k, y_k, x_n, y_n)\u001B[0m\n\u001B[0;32m     65\u001B[0m             \u001B[1;34m\"name\"\u001B[0m\u001B[1;33m:\u001B[0m \u001B[1;34m\"Poisson means test\"\u001B[0m\u001B[1;33m,\u001B[0m\u001B[1;33m\u001B[0m\u001B[1;33m\u001B[0m\u001B[0m\n\u001B[0;32m     66\u001B[0m             \u001B[1;34m\"p_value\"\u001B[0m\u001B[1;33m:\u001B[0m \u001B[1;32mlambda\u001B[0m \u001B[0mx_k\u001B[0m\u001B[1;33m,\u001B[0m \u001B[0my_k\u001B[0m\u001B[1;33m,\u001B[0m \u001B[0mx_n\u001B[0m\u001B[1;33m,\u001B[0m \u001B[0my_n\u001B[0m\u001B[1;33m:\u001B[0m\u001B[0;31m \u001B[0m\u001B[0;31m\\\u001B[0m\u001B[1;33m\u001B[0m\u001B[1;33m\u001B[0m\u001B[0m\n\u001B[1;32m---> 67\u001B[1;33m                 poisson_means_test(x_k, x_n, y_k, y_n,\n\u001B[0m\u001B[0;32m     68\u001B[0m                                    alternative=\"two-sided\").pvalue\n\u001B[0;32m     69\u001B[0m         \u001B[1;33m}\u001B[0m\u001B[1;33m,\u001B[0m \u001B[1;33m{\u001B[0m\u001B[1;33m\u001B[0m\u001B[1;33m\u001B[0m\u001B[0m\n",
      "\u001B[1;32m~\\anaconda3\\lib\\site-packages\\scipy\\stats\\_hypotests.py\u001B[0m in \u001B[0;36mpoisson_means_test\u001B[1;34m(k1, n1, k2, n2, diff, alternative)\u001B[0m\n\u001B[0;32m    328\u001B[0m     \u001B[1;31m# Multiply all combinations of the products together, exclude terms\u001B[0m\u001B[1;33m\u001B[0m\u001B[1;33m\u001B[0m\u001B[0m\n\u001B[0;32m    329\u001B[0m     \u001B[1;31m# based on the `indicator` and then sum. (3.5)\u001B[0m\u001B[1;33m\u001B[0m\u001B[1;33m\u001B[0m\u001B[0m\n\u001B[1;32m--> 330\u001B[1;33m     \u001B[0mpvalue\u001B[0m \u001B[1;33m=\u001B[0m \u001B[0mnp\u001B[0m\u001B[1;33m.\u001B[0m\u001B[0msum\u001B[0m\u001B[1;33m(\u001B[0m\u001B[1;33m(\u001B[0m\u001B[0mprob_x1\u001B[0m \u001B[1;33m*\u001B[0m \u001B[0mprob_x2\u001B[0m\u001B[1;33m)\u001B[0m\u001B[1;33m[\u001B[0m\u001B[0mindicator\u001B[0m\u001B[1;33m]\u001B[0m\u001B[1;33m)\u001B[0m\u001B[1;33m\u001B[0m\u001B[1;33m\u001B[0m\u001B[0m\n\u001B[0m\u001B[0;32m    331\u001B[0m     \u001B[1;32mreturn\u001B[0m \u001B[0m_stats_py\u001B[0m\u001B[1;33m.\u001B[0m\u001B[0mSignificanceResult\u001B[0m\u001B[1;33m(\u001B[0m\u001B[0mt_k1k2\u001B[0m\u001B[1;33m,\u001B[0m \u001B[0mpvalue\u001B[0m\u001B[1;33m)\u001B[0m\u001B[1;33m\u001B[0m\u001B[1;33m\u001B[0m\u001B[0m\n\u001B[0;32m    332\u001B[0m \u001B[1;33m\u001B[0m\u001B[0m\n",
      "\u001B[1;31mKeyboardInterrupt\u001B[0m: "
     ]
    }
   ],
   "source": [
    "simulation_param_list = [\n",
    "    PValueSimulationParams(x_sample_size=sample_size_couple[\"x\"],\n",
    "                           y_sample_size=sample_size_couple[\"y\"],\n",
    "                           x_p=p, y_p=p, iter_size=50000)\n",
    "    for p in p_list\n",
    "    for sample_size_couple in sample_size_list\n",
    "]\n",
    "simulation = PValueSimulation(simulation_param_list=simulation_param_list,\n",
    "                              dir_list=dir_list)\n",
    "\n",
    "simulation.simulate(random_state=42,\n",
    "                    custom_test_name_list=[\"Fisher’s exact test\", \n",
    "                                           \"G-test\",\n",
    "                                           \"Poisson means test\",\n",
    "                                           \"Z-test\",\n",
    "                                           \"Chi-square test\"],\n",
    "                    rewrite_result=False,\n",
    "                    tqdm_disable=False)"
   ],
   "metadata": {
    "collapsed": false,
    "ExecuteTime": {
     "end_time": "2023-10-15T07:35:17.055010100Z",
     "start_time": "2023-10-14T21:55:39.611694700Z"
    }
   },
   "id": "262136159bc600b7"
  },
  {
   "cell_type": "code",
   "execution_count": 4,
   "outputs": [
    {
     "name": "stdout",
     "output_type": "stream",
     "text": [
      "x_p=0.01, y_p=0.01, x_sample_size=100000, y_sample_size=100000\n",
      "Fisher’s exact test\n"
     ]
    },
    {
     "name": "stderr",
     "output_type": "stream",
     "text": [
      "100%|██████████| 10000/10000 [00:30<00:00, 329.24it/s]\n"
     ]
    },
    {
     "name": "stdout",
     "output_type": "stream",
     "text": [
      "G-test\n"
     ]
    },
    {
     "name": "stderr",
     "output_type": "stream",
     "text": [
      "100%|██████████| 10000/10000 [00:04<00:00, 2311.91it/s]\n"
     ]
    },
    {
     "name": "stdout",
     "output_type": "stream",
     "text": [
      "Poisson means test\n"
     ]
    },
    {
     "name": "stderr",
     "output_type": "stream",
     "text": [
      "100%|██████████| 10000/10000 [00:38<00:00, 259.59it/s]\n"
     ]
    },
    {
     "name": "stdout",
     "output_type": "stream",
     "text": [
      "Z-test\n"
     ]
    },
    {
     "name": "stderr",
     "output_type": "stream",
     "text": [
      "100%|██████████| 10000/10000 [00:02<00:00, 4935.73it/s]\n"
     ]
    },
    {
     "name": "stdout",
     "output_type": "stream",
     "text": [
      "Chi-square test\n"
     ]
    },
    {
     "name": "stderr",
     "output_type": "stream",
     "text": [
      "100%|██████████| 10000/10000 [00:02<00:00, 4502.67it/s]\n"
     ]
    }
   ],
   "source": [
    "simulation_param_list = [\n",
    "    PValueSimulationParams(x_sample_size=100000,\n",
    "                           y_sample_size=100000,\n",
    "                           x_p=0.01, y_p=0.01, \n",
    "                           iter_size=10000)\n",
    "]\n",
    "simulation = PValueSimulation(simulation_param_list=simulation_param_list,\n",
    "                              dir_list=dir_list)\n",
    "\n",
    "simulation.simulate(random_state=42,\n",
    "                    custom_test_name_list=[\"Fisher’s exact test\",\n",
    "                                           \"G-test\",\n",
    "                                           \"Poisson means test\",\n",
    "                                           \"Z-test\",\n",
    "                                           \"Chi-square test\"],\n",
    "                    rewrite_result=False,\n",
    "                    tqdm_disable=False)"
   ],
   "metadata": {
    "collapsed": false,
    "ExecuteTime": {
     "end_time": "2023-10-15T17:50:52.955529Z",
     "start_time": "2023-10-15T17:49:35.202998Z"
    }
   },
   "id": "4906d42cccec8fd8"
  },
  {
   "cell_type": "code",
   "execution_count": 5,
   "outputs": [
    {
     "name": "stdout",
     "output_type": "stream",
     "text": [
      "x_p=0.43734482957731124, y_p=0.43734482957731124, x_sample_size=10, y_sample_size=10\n",
      "Barnard’s exact test\n"
     ]
    },
    {
     "name": "stderr",
     "output_type": "stream",
     "text": [
      "100%|██████████| 500/500 [00:05<00:00, 95.96it/s] \n"
     ]
    },
    {
     "name": "stdout",
     "output_type": "stream",
     "text": [
      "Boschloo’s exact test\n"
     ]
    },
    {
     "name": "stderr",
     "output_type": "stream",
     "text": [
      "100%|██████████| 500/500 [00:05<00:00, 85.08it/s]\n"
     ]
    },
    {
     "name": "stdout",
     "output_type": "stream",
     "text": [
      "Fisher’s exact test\n"
     ]
    },
    {
     "name": "stderr",
     "output_type": "stream",
     "text": [
      "100%|██████████| 500/500 [00:00<00:00, 1066.35it/s]\n"
     ]
    },
    {
     "name": "stdout",
     "output_type": "stream",
     "text": [
      "G-test\n"
     ]
    },
    {
     "name": "stderr",
     "output_type": "stream",
     "text": [
      "100%|██████████| 500/500 [00:00<00:00, 2628.13it/s]\n"
     ]
    },
    {
     "name": "stdout",
     "output_type": "stream",
     "text": [
      "Poisson means test\n"
     ]
    },
    {
     "name": "stderr",
     "output_type": "stream",
     "text": [
      "100%|██████████| 500/500 [00:00<00:00, 1417.12it/s]\n"
     ]
    },
    {
     "name": "stdout",
     "output_type": "stream",
     "text": [
      "Z-test\n"
     ]
    },
    {
     "name": "stderr",
     "output_type": "stream",
     "text": [
      "100%|██████████| 500/500 [00:00<00:00, 6047.20it/s]\n"
     ]
    },
    {
     "name": "stdout",
     "output_type": "stream",
     "text": [
      "Chi-square test\n"
     ]
    },
    {
     "name": "stderr",
     "output_type": "stream",
     "text": [
      "100%|██████████| 500/500 [00:00<00:00, 4087.80it/s]\n"
     ]
    },
    {
     "name": "stdout",
     "output_type": "stream",
     "text": [
      "x_p=0.10985605433061178, y_p=0.10985605433061178, x_sample_size=100, y_sample_size=100\n",
      "Barnard’s exact test\n"
     ]
    },
    {
     "name": "stderr",
     "output_type": "stream",
     "text": [
      "100%|██████████| 500/500 [00:15<00:00, 33.24it/s]\n"
     ]
    },
    {
     "name": "stdout",
     "output_type": "stream",
     "text": [
      "Boschloo’s exact test\n"
     ]
    },
    {
     "name": "stderr",
     "output_type": "stream",
     "text": [
      "100%|██████████| 500/500 [00:37<00:00, 13.29it/s]\n"
     ]
    },
    {
     "name": "stdout",
     "output_type": "stream",
     "text": [
      "Fisher’s exact test\n"
     ]
    },
    {
     "name": "stderr",
     "output_type": "stream",
     "text": [
      "100%|██████████| 500/500 [00:00<00:00, 666.76it/s]\n"
     ]
    },
    {
     "name": "stdout",
     "output_type": "stream",
     "text": [
      "G-test\n"
     ]
    },
    {
     "name": "stderr",
     "output_type": "stream",
     "text": [
      "100%|██████████| 500/500 [00:00<00:00, 2660.89it/s]\n"
     ]
    },
    {
     "name": "stdout",
     "output_type": "stream",
     "text": [
      "Poisson means test\n"
     ]
    },
    {
     "name": "stderr",
     "output_type": "stream",
     "text": [
      "100%|██████████| 500/500 [00:00<00:00, 1364.02it/s]\n"
     ]
    },
    {
     "name": "stdout",
     "output_type": "stream",
     "text": [
      "Z-test\n"
     ]
    },
    {
     "name": "stderr",
     "output_type": "stream",
     "text": [
      "100%|██████████| 500/500 [00:00<00:00, 6107.79it/s]\n"
     ]
    },
    {
     "name": "stdout",
     "output_type": "stream",
     "text": [
      "Chi-square test\n"
     ]
    },
    {
     "name": "stderr",
     "output_type": "stream",
     "text": [
      "100%|██████████| 500/500 [00:00<00:00, 3647.25it/s]\n"
     ]
    },
    {
     "name": "stdout",
     "output_type": "stream",
     "text": [
      "x_p=0.0275945932292243, y_p=0.0275945932292243, x_sample_size=1000, y_sample_size=1000\n",
      "Barnard’s exact test\n"
     ]
    },
    {
     "name": "stderr",
     "output_type": "stream",
     "text": [
      "100%|██████████| 500/500 [26:47<00:00,  3.22s/it]\n"
     ]
    },
    {
     "name": "stdout",
     "output_type": "stream",
     "text": [
      "Boschloo’s exact test\n"
     ]
    },
    {
     "name": "stderr",
     "output_type": "stream",
     "text": [
      "100%|██████████| 500/500 [2:26:10<00:00, 17.54s/it]  \n"
     ]
    },
    {
     "name": "stdout",
     "output_type": "stream",
     "text": [
      "Fisher’s exact test\n"
     ]
    },
    {
     "name": "stderr",
     "output_type": "stream",
     "text": [
      "100%|██████████| 500/500 [00:00<00:00, 693.58it/s]\n"
     ]
    },
    {
     "name": "stdout",
     "output_type": "stream",
     "text": [
      "G-test\n"
     ]
    },
    {
     "name": "stderr",
     "output_type": "stream",
     "text": [
      "100%|██████████| 500/500 [00:00<00:00, 3339.02it/s]\n"
     ]
    },
    {
     "name": "stdout",
     "output_type": "stream",
     "text": [
      "Poisson means test\n"
     ]
    },
    {
     "name": "stderr",
     "output_type": "stream",
     "text": [
      "100%|██████████| 500/500 [00:00<00:00, 1371.95it/s]\n"
     ]
    },
    {
     "name": "stdout",
     "output_type": "stream",
     "text": [
      "Z-test\n"
     ]
    },
    {
     "name": "stderr",
     "output_type": "stream",
     "text": [
      "100%|██████████| 500/500 [00:00<00:00, 4327.32it/s]\n"
     ]
    },
    {
     "name": "stdout",
     "output_type": "stream",
     "text": [
      "Chi-square test\n"
     ]
    },
    {
     "name": "stderr",
     "output_type": "stream",
     "text": [
      "100%|██████████| 500/500 [00:00<00:00, 2638.44it/s]\n"
     ]
    }
   ],
   "source": [
    "n_list = [10, 100, 1000]\n",
    "p_list = [(4**(2/5)) / (n**(3/5)) for n in n_list]\n",
    "\n",
    "simulation_param_list = [\n",
    "    PValueSimulationParams(x_sample_size=n,\n",
    "                           y_sample_size=n,\n",
    "                           x_p=p, y_p=p,\n",
    "                           iter_size=500)\n",
    "    for p, n in zip(p_list, n_list)\n",
    "]\n",
    "simulation = PValueSimulation(simulation_param_list=simulation_param_list,\n",
    "                              dir_list=dir_list)\n",
    "\n",
    "simulation.simulate(random_state=42,\n",
    "                    custom_test_name_list=[\"Fisher’s exact test\",\n",
    "                                           \"G-test\",\n",
    "                                           \"Poisson means test\",\n",
    "                                           \"Z-test\",\n",
    "                                           \"Chi-square test\",\n",
    "                                           \"Barnard’s exact test\",\n",
    "                                           \"Boschloo’s exact test\"],\n",
    "                    rewrite_result=False,\n",
    "                    tqdm_disable=False)"
   ],
   "metadata": {
    "collapsed": false,
    "ExecuteTime": {
     "end_time": "2023-10-15T20:49:17.930865Z",
     "start_time": "2023-10-15T17:55:11.050558Z"
    }
   },
   "id": "6dddbee88fff5eec"
  },
  {
   "cell_type": "code",
   "execution_count": null,
   "outputs": [
    {
     "name": "stdout",
     "output_type": "stream",
     "text": [
      "x_p=0.0001, y_p=0.0001, x_sample_size=10, y_sample_size=10\n",
      "Barnard’s exact test\n"
     ]
    },
    {
     "name": "stderr",
     "output_type": "stream",
     "text": [
      "100%|██████████| 1/1 [00:00<00:00, 33.41it/s]\n"
     ]
    },
    {
     "name": "stdout",
     "output_type": "stream",
     "text": [
      "30.927 ms per sample\n",
      "Boschloo’s exact test\n"
     ]
    },
    {
     "name": "stderr",
     "output_type": "stream",
     "text": [
      "100%|██████████| 1/1 [00:00<00:00, 62.69it/s]\n"
     ]
    },
    {
     "name": "stdout",
     "output_type": "stream",
     "text": [
      "18.986 ms per sample\n",
      "x_p=0.0001, y_p=0.0001, x_sample_size=10, y_sample_size=100\n",
      "Barnard’s exact test\n"
     ]
    },
    {
     "name": "stderr",
     "output_type": "stream",
     "text": [
      "100%|██████████| 1/1 [00:00<00:00, 143.27it/s]\n"
     ]
    },
    {
     "name": "stdout",
     "output_type": "stream",
     "text": [
      "10.000 ms per sample\n",
      "Boschloo’s exact test\n"
     ]
    },
    {
     "name": "stderr",
     "output_type": "stream",
     "text": [
      "100%|██████████| 1/1 [00:00<00:00, 50.22it/s]\n"
     ]
    },
    {
     "name": "stdout",
     "output_type": "stream",
     "text": [
      "20.909 ms per sample\n",
      "x_p=0.0001, y_p=0.0001, x_sample_size=100, y_sample_size=100\n",
      "Barnard’s exact test\n"
     ]
    },
    {
     "name": "stderr",
     "output_type": "stream",
     "text": [
      "100%|██████████| 1/1 [00:00<00:00, 83.32it/s]\n"
     ]
    },
    {
     "name": "stdout",
     "output_type": "stream",
     "text": [
      "12.999 ms per sample\n",
      "Boschloo’s exact test\n"
     ]
    },
    {
     "name": "stderr",
     "output_type": "stream",
     "text": [
      "100%|██████████| 1/1 [00:00<00:00, 22.28it/s]\n"
     ]
    },
    {
     "name": "stdout",
     "output_type": "stream",
     "text": [
      "45.861 ms per sample\n",
      "x_p=0.0001, y_p=0.0001, x_sample_size=100, y_sample_size=1000\n",
      "Barnard’s exact test\n"
     ]
    },
    {
     "name": "stderr",
     "output_type": "stream",
     "text": [
      "100%|██████████| 1/1 [00:00<00:00,  5.00it/s]\n"
     ]
    },
    {
     "name": "stdout",
     "output_type": "stream",
     "text": [
      "200.966 ms per sample\n",
      "Boschloo’s exact test\n"
     ]
    },
    {
     "name": "stderr",
     "output_type": "stream",
     "text": [
      "100%|██████████| 1/1 [00:00<00:00,  1.16it/s]\n"
     ]
    },
    {
     "name": "stdout",
     "output_type": "stream",
     "text": [
      "866.717 ms per sample\n",
      "x_p=0.0001, y_p=0.0001, x_sample_size=100, y_sample_size=10000\n",
      "Barnard’s exact test\n"
     ]
    },
    {
     "name": "stderr",
     "output_type": "stream",
     "text": [
      "100%|██████████| 1/1 [00:05<00:00,  5.81s/it]\n"
     ]
    },
    {
     "name": "stdout",
     "output_type": "stream",
     "text": [
      "5812.073 ms per sample\n",
      "Boschloo’s exact test\n"
     ]
    },
    {
     "name": "stderr",
     "output_type": "stream",
     "text": [
      "100%|██████████| 1/1 [00:38<00:00, 38.47s/it]\n"
     ]
    },
    {
     "name": "stdout",
     "output_type": "stream",
     "text": [
      "38471.042 ms per sample\n",
      "x_p=0.0001, y_p=0.0001, x_sample_size=1000, y_sample_size=1000\n",
      "Barnard’s exact test\n"
     ]
    },
    {
     "name": "stderr",
     "output_type": "stream",
     "text": [
      "100%|██████████| 1/1 [00:02<00:00,  2.56s/it]\n"
     ]
    },
    {
     "name": "stdout",
     "output_type": "stream",
     "text": [
      "2564.944 ms per sample\n",
      "Boschloo’s exact test\n"
     ]
    },
    {
     "name": "stderr",
     "output_type": "stream",
     "text": [
      "100%|██████████| 1/1 [00:14<00:00, 14.03s/it]\n"
     ]
    },
    {
     "name": "stdout",
     "output_type": "stream",
     "text": [
      "14036.463 ms per sample\n",
      "x_p=0.0001, y_p=0.0001, x_sample_size=1000, y_sample_size=10000\n",
      "Barnard’s exact test\n"
     ]
    },
    {
     "name": "stderr",
     "output_type": "stream",
     "text": [
      "100%|██████████| 1/1 [00:49<00:00, 49.24s/it]\n"
     ]
    },
    {
     "name": "stdout",
     "output_type": "stream",
     "text": [
      "49239.884 ms per sample\n",
      "Boschloo’s exact test\n"
     ]
    },
    {
     "name": "stderr",
     "output_type": "stream",
     "text": [
      "100%|██████████| 1/1 [07:24<00:00, 444.74s/it]\n"
     ]
    },
    {
     "name": "stdout",
     "output_type": "stream",
     "text": [
      "444746.562 ms per sample\n",
      "x_p=0.0001, y_p=0.0001, x_sample_size=1000, y_sample_size=100000\n",
      "Barnard’s exact test\n"
     ]
    },
    {
     "name": "stderr",
     "output_type": "stream",
     "text": [
      "100%|██████████| 1/1 [08:41<00:00, 521.75s/it]\n"
     ]
    },
    {
     "name": "stdout",
     "output_type": "stream",
     "text": [
      "521747.950 ms per sample\n",
      "Boschloo’s exact test\n"
     ]
    },
    {
     "name": "stderr",
     "output_type": "stream",
     "text": [
      "  0%|          | 0/1 [00:00<?, ?it/s]"
     ]
    }
   ],
   "source": [
    "simulation_param_list = [\n",
    "    PValueSimulationParams(x_sample_size=sample_size_couple[\"x\"],\n",
    "                           y_sample_size=sample_size_couple[\"y\"],\n",
    "                           x_p=p, y_p=p, iter_size=1)\n",
    "    for p in p_list\n",
    "    for sample_size_couple in sample_size_list\n",
    "]\n",
    "\n",
    "dir_list=[\"_simulation_under_hypothesis\", \"first_simulation\"]\n",
    "simulation = PValueSimulation(simulation_param_list=simulation_param_list,\n",
    "                              dir_list=dir_list)\n",
    "\n",
    "simulation.simulate(random_state=42,\n",
    "                    custom_test_name_list=[\"Barnard’s exact test\",\n",
    "                                           \"Boschloo’s exact test\"],\n",
    "                    rewrite_result=False,\n",
    "                    tqdm_disable=False) "
   ],
   "metadata": {
    "collapsed": false,
    "is_executing": true,
    "ExecuteTime": {
     "start_time": "2023-10-15T07:37:06.317459800Z"
    }
   },
   "id": "6249d47194ccf094"
  },
  {
   "cell_type": "code",
   "execution_count": null,
   "outputs": [],
   "source": [
    "simulation.simulate(random_state=42,\n",
    "                    custom_test_name_list=[\"Z-test\", \"Fisher’s exact test\"],\n",
    "                    rewrite_result=True,\n",
    "                    tqdm_disable=False)\n",
    "simulation.simulate(random_state=42,\n",
    "                    custom_test_name_list=[\"Boschloo’s exact test\"],\n",
    "                    rewrite_result=False,\n",
    "                    tqdm_disable=False)"
   ],
   "metadata": {
    "collapsed": false
   },
   "id": "98dbcfea4827767e"
  },
  {
   "cell_type": "code",
   "execution_count": null,
   "outputs": [],
   "source": [],
   "metadata": {
    "collapsed": false
   },
   "id": "342cd99a36fc263c"
  },
  {
   "cell_type": "code",
   "execution_count": null,
   "outputs": [],
   "source": [
    "iter_size = 5000\n",
    "default_random_state = 42\n",
    "max_alpha = 1 # 0.1\n",
    "\n",
    "for i, p in enumerate(p_list):\n",
    "    for j, sample_size_couple in enumerate(sample_size_list):\n",
    "        random_state = default_random_state + 2 * (i * len(sample_size_list) + j)\n",
    "        x = binom.rvs(sample_size_couple[\"x\"], p, \n",
    "                      random_state=random_state,\n",
    "                      size=iter_size)\n",
    "        y = binom.rvs(sample_size_couple[\"y\"], p,\n",
    "                      random_state=random_state+1,\n",
    "                      size=iter_size)\n",
    "\n",
    "        title_name = f\"p = {p}, \" \\\n",
    "                     + f\"sample size x = {sample_size_couple['x']}, \" \\\n",
    "                     + f\"y = {sample_size_couple['y']}\"\n",
    "        print(title_name + \"\\n\")\n",
    "        \n",
    "        fig = go.Figure()\n",
    "        fig.add_trace(go.Scatter(x=np.linspace(0, max_alpha, num=iter_size), \n",
    "                                 y=np.linspace(0, max_alpha, num=iter_size),\n",
    "                                 line={\"color\": \"grey\"},\n",
    "                                 name=\"y = x\",\n",
    "                                 mode=\"lines\"))\n",
    "        \n",
    "        for test in test_list:\n",
    "            test[\"p_value_list\"] = []\n",
    "            start_time = time()\n",
    "            \n",
    "            for iter_num in range(iter_size):\n",
    "                p_value = test[\"p_value\"](x[iter_num], y[iter_num],\n",
    "                                          sample_size_couple[\"x\"], sample_size_couple[\"y\"])\n",
    "                test[\"p_value_list\"].append(p_value)\n",
    "            \n",
    "            end_time = time()\n",
    "            print(f\"{test['name']}: {1000 * (end_time - start_time) / iter_size:.2f} ms per test\")\n",
    "\n",
    "            p_value_ecdf = ECDF(test[\"p_value_list\"])\n",
    "            fig.add_trace(go.Scatter(x=p_value_ecdf.x[p_value_ecdf.x <= max_alpha], \n",
    "                                     y=p_value_ecdf.y[p_value_ecdf.x <= max_alpha],\n",
    "                                     name=test[\"name\"],\n",
    "                                     mode=\"lines\"))\n",
    "\n",
    "        fig.update_layout(title=title_name,\n",
    "                          xaxis_title=\"alpha\",\n",
    "                          yaxis_title=\"ECDF p-value\",\n",
    "                          legend_title=\"Criteria\")\n",
    "        fig.show()\n",
    "\n",
    "        p_value_data = pd.DataFrame({\n",
    "            test[\"name\"]: test[\"p_value_list\"]\n",
    "            for test in test_list\n",
    "        }).corr()\n",
    "\n",
    "        fig = go.Figure()\n",
    "        fig.add_trace(go.Heatmap(x=p_value_data.columns,\n",
    "                                 y=p_value_data.index,\n",
    "                                 z=np.array(p_value_data),\n",
    "                                 text=p_value_data.values,\n",
    "                                 texttemplate='%{text:.2f}'))\n",
    "        fig.show()"
   ],
   "metadata": {
    "collapsed": false
   },
   "id": "9ab12109942104e4"
  }
 ],
 "metadata": {
  "kernelspec": {
   "display_name": "Python 3",
   "language": "python",
   "name": "python3"
  },
  "language_info": {
   "codemirror_mode": {
    "name": "ipython",
    "version": 2
   },
   "file_extension": ".py",
   "mimetype": "text/x-python",
   "name": "python",
   "nbconvert_exporter": "python",
   "pygments_lexer": "ipython2",
   "version": "2.7.6"
  }
 },
 "nbformat": 4,
 "nbformat_minor": 5
}
