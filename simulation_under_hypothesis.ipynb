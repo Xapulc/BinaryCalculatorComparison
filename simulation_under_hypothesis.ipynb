{
 "cells": [
  {
   "cell_type": "code",
   "execution_count": 1,
   "id": "initial_id",
   "metadata": {
    "collapsed": true,
    "ExecuteTime": {
     "end_time": "2023-10-14T16:29:46.270520Z",
     "start_time": "2023-10-14T16:29:44.908861Z"
    }
   },
   "outputs": [],
   "source": [
    "from tools.p_value_simulation import PValueSimulation\n",
    "from tools.p_value_simulation_params import PValueSimulationParams"
   ]
  },
  {
   "cell_type": "code",
   "execution_count": 2,
   "outputs": [],
   "source": [
    "p_list = [\n",
    "    0.0001,\n",
    "    0.001,\n",
    "    0.01,\n",
    "    0.1,\n",
    "    0.5\n",
    "]\n",
    "\n",
    "sample_size_list = [{\n",
    "    \"x\": 10,\n",
    "    \"y\": 10\n",
    "}, {\n",
    "    \"x\": 10,\n",
    "    \"y\": 100\n",
    "}, {\n",
    "    \"x\": 100,\n",
    "    \"y\": 100\n",
    "}, {\n",
    "    \"x\": 100,\n",
    "    \"y\": 1000\n",
    "}, {\n",
    "    \"x\": 100,\n",
    "    \"y\": 10000\n",
    "}, {\n",
    "    \"x\": 1000,\n",
    "    \"y\": 1000\n",
    "}, {\n",
    "    \"x\": 1000,\n",
    "    \"y\": 10000\n",
    "}, {\n",
    "    \"x\": 1000,\n",
    "    \"y\": 100000\n",
    "}, {\n",
    "    \"x\": 1000,\n",
    "    \"y\": 1000000\n",
    "}, {\n",
    "    \"x\": 10000,\n",
    "    \"y\": 10000\n",
    "}, {\n",
    "    \"x\": 10000,\n",
    "    \"y\": 100000\n",
    "}, {\n",
    "    \"x\": 10000,\n",
    "    \"y\": 1000000\n",
    "}, {\n",
    "    \"x\": 10000,\n",
    "    \"y\": 10000000\n",
    "}, {\n",
    "    \"x\": 10000,\n",
    "    \"y\": 100000000\n",
    "}]\n",
    "\n",
    "dir_list=[\"simulation_under_hypothesis\", \"first_simulation\"]"
   ],
   "metadata": {
    "collapsed": false,
    "ExecuteTime": {
     "end_time": "2023-10-14T16:29:47.245665Z",
     "start_time": "2023-10-14T16:29:47.241469Z"
    }
   },
   "id": "39aa9b0936abf87d"
  },
  {
   "cell_type": "code",
   "execution_count": 3,
   "outputs": [
    {
     "name": "stdout",
     "output_type": "stream",
     "text": [
      "x_p=0.0001, y_p=0.0001, x_sample_size=10, y_sample_size=10\n",
      "x_p=0.0001, y_p=0.0001, x_sample_size=10, y_sample_size=100\n",
      "x_p=0.0001, y_p=0.0001, x_sample_size=100, y_sample_size=100\n",
      "x_p=0.0001, y_p=0.0001, x_sample_size=100, y_sample_size=1000\n",
      "x_p=0.0001, y_p=0.0001, x_sample_size=100, y_sample_size=10000\n",
      "x_p=0.0001, y_p=0.0001, x_sample_size=1000, y_sample_size=1000\n",
      "x_p=0.0001, y_p=0.0001, x_sample_size=1000, y_sample_size=10000\n",
      "x_p=0.0001, y_p=0.0001, x_sample_size=1000, y_sample_size=100000\n",
      "x_p=0.0001, y_p=0.0001, x_sample_size=1000, y_sample_size=1000000\n",
      "x_p=0.0001, y_p=0.0001, x_sample_size=10000, y_sample_size=10000\n",
      "x_p=0.0001, y_p=0.0001, x_sample_size=10000, y_sample_size=100000\n",
      "x_p=0.0001, y_p=0.0001, x_sample_size=10000, y_sample_size=1000000\n",
      "x_p=0.0001, y_p=0.0001, x_sample_size=10000, y_sample_size=10000000\n",
      "x_p=0.0001, y_p=0.0001, x_sample_size=10000, y_sample_size=100000000\n",
      "x_p=0.001, y_p=0.001, x_sample_size=10, y_sample_size=10\n",
      "x_p=0.001, y_p=0.001, x_sample_size=10, y_sample_size=100\n",
      "x_p=0.001, y_p=0.001, x_sample_size=100, y_sample_size=100\n",
      "x_p=0.001, y_p=0.001, x_sample_size=100, y_sample_size=1000\n",
      "x_p=0.001, y_p=0.001, x_sample_size=100, y_sample_size=10000\n",
      "x_p=0.001, y_p=0.001, x_sample_size=1000, y_sample_size=1000\n",
      "x_p=0.001, y_p=0.001, x_sample_size=1000, y_sample_size=10000\n",
      "x_p=0.001, y_p=0.001, x_sample_size=1000, y_sample_size=100000\n",
      "x_p=0.001, y_p=0.001, x_sample_size=1000, y_sample_size=1000000\n",
      "x_p=0.001, y_p=0.001, x_sample_size=10000, y_sample_size=10000\n",
      "x_p=0.001, y_p=0.001, x_sample_size=10000, y_sample_size=100000\n",
      "x_p=0.001, y_p=0.001, x_sample_size=10000, y_sample_size=1000000\n",
      "x_p=0.001, y_p=0.001, x_sample_size=10000, y_sample_size=10000000\n",
      "x_p=0.001, y_p=0.001, x_sample_size=10000, y_sample_size=100000000\n",
      "x_p=0.01, y_p=0.01, x_sample_size=10, y_sample_size=10\n",
      "x_p=0.01, y_p=0.01, x_sample_size=10, y_sample_size=100\n",
      "x_p=0.01, y_p=0.01, x_sample_size=100, y_sample_size=100\n",
      "x_p=0.01, y_p=0.01, x_sample_size=100, y_sample_size=1000\n",
      "x_p=0.01, y_p=0.01, x_sample_size=100, y_sample_size=10000\n",
      "x_p=0.01, y_p=0.01, x_sample_size=1000, y_sample_size=1000\n",
      "x_p=0.01, y_p=0.01, x_sample_size=1000, y_sample_size=10000\n",
      "x_p=0.01, y_p=0.01, x_sample_size=1000, y_sample_size=100000\n",
      "x_p=0.01, y_p=0.01, x_sample_size=1000, y_sample_size=1000000\n",
      "x_p=0.01, y_p=0.01, x_sample_size=10000, y_sample_size=10000\n",
      "x_p=0.01, y_p=0.01, x_sample_size=10000, y_sample_size=100000\n",
      "x_p=0.01, y_p=0.01, x_sample_size=10000, y_sample_size=1000000\n",
      "x_p=0.01, y_p=0.01, x_sample_size=10000, y_sample_size=10000000\n",
      "x_p=0.01, y_p=0.01, x_sample_size=10000, y_sample_size=100000000\n",
      "x_p=0.1, y_p=0.1, x_sample_size=10, y_sample_size=10\n",
      "x_p=0.1, y_p=0.1, x_sample_size=10, y_sample_size=100\n",
      "x_p=0.1, y_p=0.1, x_sample_size=100, y_sample_size=100\n",
      "x_p=0.1, y_p=0.1, x_sample_size=100, y_sample_size=1000\n",
      "x_p=0.1, y_p=0.1, x_sample_size=100, y_sample_size=10000\n",
      "x_p=0.1, y_p=0.1, x_sample_size=1000, y_sample_size=1000\n",
      "x_p=0.1, y_p=0.1, x_sample_size=1000, y_sample_size=10000\n",
      "x_p=0.1, y_p=0.1, x_sample_size=1000, y_sample_size=100000\n",
      "x_p=0.1, y_p=0.1, x_sample_size=1000, y_sample_size=1000000\n",
      "x_p=0.1, y_p=0.1, x_sample_size=10000, y_sample_size=10000\n",
      "x_p=0.1, y_p=0.1, x_sample_size=10000, y_sample_size=100000\n",
      "x_p=0.1, y_p=0.1, x_sample_size=10000, y_sample_size=1000000\n",
      "x_p=0.1, y_p=0.1, x_sample_size=10000, y_sample_size=10000000\n",
      "x_p=0.1, y_p=0.1, x_sample_size=10000, y_sample_size=100000000\n",
      "Fisher’s exact test\n"
     ]
    },
    {
     "name": "stderr",
     "output_type": "stream",
     "text": [
      "  3%|▎         | 1406/50000 [00:04<02:45, 294.10it/s]\n"
     ]
    },
    {
     "ename": "KeyboardInterrupt",
     "evalue": "",
     "output_type": "error",
     "traceback": [
      "\u001B[0;31m---------------------------------------------------------------------------\u001B[0m",
      "\u001B[0;31mKeyboardInterrupt\u001B[0m                         Traceback (most recent call last)",
      "Cell \u001B[0;32mIn[3], line 11\u001B[0m\n\u001B[1;32m      1\u001B[0m simulation_param_list \u001B[38;5;241m=\u001B[39m [\n\u001B[1;32m      2\u001B[0m     PValueSimulationParams(x_sample_size\u001B[38;5;241m=\u001B[39msample_size_couple[\u001B[38;5;124m\"\u001B[39m\u001B[38;5;124mx\u001B[39m\u001B[38;5;124m\"\u001B[39m],\n\u001B[1;32m      3\u001B[0m                            y_sample_size\u001B[38;5;241m=\u001B[39msample_size_couple[\u001B[38;5;124m\"\u001B[39m\u001B[38;5;124my\u001B[39m\u001B[38;5;124m\"\u001B[39m],\n\u001B[0;32m   (...)\u001B[0m\n\u001B[1;32m      6\u001B[0m     \u001B[38;5;28;01mfor\u001B[39;00m sample_size_couple \u001B[38;5;129;01min\u001B[39;00m sample_size_list\n\u001B[1;32m      7\u001B[0m ]\n\u001B[1;32m      8\u001B[0m simulation \u001B[38;5;241m=\u001B[39m PValueSimulation(simulation_param_list\u001B[38;5;241m=\u001B[39msimulation_param_list,\n\u001B[1;32m      9\u001B[0m                               dir_list\u001B[38;5;241m=\u001B[39mdir_list)\n\u001B[0;32m---> 11\u001B[0m simulation\u001B[38;5;241m.\u001B[39msimulate(random_state\u001B[38;5;241m=\u001B[39m\u001B[38;5;241m42\u001B[39m,\n\u001B[1;32m     12\u001B[0m                     custom_test_name_list\u001B[38;5;241m=\u001B[39m[\u001B[38;5;124m\"\u001B[39m\u001B[38;5;124mFisher’s exact test\u001B[39m\u001B[38;5;124m\"\u001B[39m, \n\u001B[1;32m     13\u001B[0m                                            \u001B[38;5;124m\"\u001B[39m\u001B[38;5;124mG-test\u001B[39m\u001B[38;5;124m\"\u001B[39m,\n\u001B[1;32m     14\u001B[0m                                            \u001B[38;5;124m\"\u001B[39m\u001B[38;5;124mPoisson means test\u001B[39m\u001B[38;5;124m\"\u001B[39m,\n\u001B[1;32m     15\u001B[0m                                            \u001B[38;5;124m\"\u001B[39m\u001B[38;5;124mZ-test\u001B[39m\u001B[38;5;124m\"\u001B[39m,\n\u001B[1;32m     16\u001B[0m                                            \u001B[38;5;124m\"\u001B[39m\u001B[38;5;124mChi-square test\u001B[39m\u001B[38;5;124m\"\u001B[39m],\n\u001B[1;32m     17\u001B[0m                     rewrite_result\u001B[38;5;241m=\u001B[39m\u001B[38;5;28;01mFalse\u001B[39;00m,\n\u001B[1;32m     18\u001B[0m                     tqdm_disable\u001B[38;5;241m=\u001B[39m\u001B[38;5;28;01mFalse\u001B[39;00m)\n",
      "File \u001B[0;32m~/PycharmProjects/BinaryCalculatorComparison/tools/p_value_simulation.py:136\u001B[0m, in \u001B[0;36mPValueSimulation.simulate\u001B[0;34m(self, random_state, custom_test_name_list, rewrite_result, tqdm_disable)\u001B[0m\n\u001B[1;32m    134\u001B[0m p_value_list \u001B[38;5;241m=\u001B[39m []\n\u001B[1;32m    135\u001B[0m \u001B[38;5;28;01mfor\u001B[39;00m j \u001B[38;5;129;01min\u001B[39;00m tqdm(\u001B[38;5;28mrange\u001B[39m(simulation_params\u001B[38;5;241m.\u001B[39miter_size), disable\u001B[38;5;241m=\u001B[39mtqdm_disable):\n\u001B[0;32m--> 136\u001B[0m     p_value \u001B[38;5;241m=\u001B[39m \u001B[38;5;28mself\u001B[39m\u001B[38;5;241m.\u001B[39m_test_list_result(x[j], y[j],\n\u001B[1;32m    137\u001B[0m                                      simulation_params\u001B[38;5;241m.\u001B[39mx_sample_size,\n\u001B[1;32m    138\u001B[0m                                      simulation_params\u001B[38;5;241m.\u001B[39my_sample_size,\n\u001B[1;32m    139\u001B[0m                                      test_name)\n\u001B[1;32m    140\u001B[0m     p_value_list\u001B[38;5;241m.\u001B[39mappend(p_value)\n\u001B[1;32m    142\u001B[0m end_time \u001B[38;5;241m=\u001B[39m time()\n",
      "File \u001B[0;32m~/PycharmProjects/BinaryCalculatorComparison/tools/p_value_simulation.py:90\u001B[0m, in \u001B[0;36mPValueSimulation._test_list_result\u001B[0;34m(self, x_k, y_k, x_n, y_n, test_name)\u001B[0m\n\u001B[1;32m     87\u001B[0m \u001B[38;5;28;01massert\u001B[39;00m \u001B[38;5;28mlen\u001B[39m(test_list) \u001B[38;5;241m>\u001B[39m \u001B[38;5;241m0\u001B[39m, \u001B[38;5;124mf\u001B[39m\u001B[38;5;124m\"\u001B[39m\u001B[38;5;124mTest \u001B[39m\u001B[38;5;132;01m{\u001B[39;00mtest_name\u001B[38;5;132;01m}\u001B[39;00m\u001B[38;5;124m did not found\u001B[39m\u001B[38;5;124m\"\u001B[39m\n\u001B[1;32m     88\u001B[0m test \u001B[38;5;241m=\u001B[39m test_list[\u001B[38;5;241m0\u001B[39m]\n\u001B[0;32m---> 90\u001B[0m \u001B[38;5;28;01mreturn\u001B[39;00m test[\u001B[38;5;124m\"\u001B[39m\u001B[38;5;124mp_value\u001B[39m\u001B[38;5;124m\"\u001B[39m](x_k, y_k, x_n, y_n)\n",
      "File \u001B[0;32m~/PycharmProjects/BinaryCalculatorComparison/tools/p_value_simulation.py:58\u001B[0m, in \u001B[0;36mPValueSimulation._test_list.<locals>.<lambda>\u001B[0;34m(x_k, y_k, x_n, y_n)\u001B[0m\n\u001B[1;32m     34\u001B[0m             y_k \u001B[38;5;241m-\u001B[39m\u001B[38;5;241m=\u001B[39m \u001B[38;5;241m1\u001B[39m\n\u001B[1;32m     36\u001B[0m     \u001B[38;5;28;01mreturn\u001B[39;00m chi2_contingency([[x_k, y_k],\n\u001B[1;32m     37\u001B[0m \n\u001B[1;32m     38\u001B[0m                              [x_n \u001B[38;5;241m-\u001B[39m x_k, y_n \u001B[38;5;241m-\u001B[39m y_k]],\n\u001B[1;32m     39\u001B[0m                             lambda_\u001B[38;5;241m=\u001B[39m\u001B[38;5;124m\"\u001B[39m\u001B[38;5;124mlog-likelihood\u001B[39m\u001B[38;5;124m\"\u001B[39m)\n\u001B[1;32m     41\u001B[0m test_list \u001B[38;5;241m=\u001B[39m [{\n\u001B[1;32m     42\u001B[0m     \u001B[38;5;124m\"\u001B[39m\u001B[38;5;124mname\u001B[39m\u001B[38;5;124m\"\u001B[39m: \u001B[38;5;124m\"\u001B[39m\u001B[38;5;124mBarnard’s exact test\u001B[39m\u001B[38;5;124m\"\u001B[39m,\n\u001B[1;32m     43\u001B[0m     \u001B[38;5;124m\"\u001B[39m\u001B[38;5;124mp_value\u001B[39m\u001B[38;5;124m\"\u001B[39m: \u001B[38;5;28;01mlambda\u001B[39;00m x_k, y_k, x_n, y_n, sampling_points\u001B[38;5;241m=\u001B[39m\u001B[38;5;241m32\u001B[39m:\n\u001B[1;32m     44\u001B[0m                       barnard_exact([[x_k, y_k],\n\u001B[1;32m     45\u001B[0m                                      [x_n \u001B[38;5;241m-\u001B[39m x_k, y_n \u001B[38;5;241m-\u001B[39m y_k]],\n\u001B[1;32m     46\u001B[0m                                     n\u001B[38;5;241m=\u001B[39msampling_points,\n\u001B[1;32m     47\u001B[0m                                     alternative\u001B[38;5;241m=\u001B[39m\u001B[38;5;124m\"\u001B[39m\u001B[38;5;124mtwo-sided\u001B[39m\u001B[38;5;124m\"\u001B[39m)\u001B[38;5;241m.\u001B[39mpvalue\n\u001B[1;32m     48\u001B[0m }, {\n\u001B[1;32m     49\u001B[0m     \u001B[38;5;124m\"\u001B[39m\u001B[38;5;124mname\u001B[39m\u001B[38;5;124m\"\u001B[39m: \u001B[38;5;124m\"\u001B[39m\u001B[38;5;124mBoschloo’s exact test\u001B[39m\u001B[38;5;124m\"\u001B[39m,\n\u001B[1;32m     50\u001B[0m     \u001B[38;5;124m\"\u001B[39m\u001B[38;5;124mp_value\u001B[39m\u001B[38;5;124m\"\u001B[39m: \u001B[38;5;28;01mlambda\u001B[39;00m x_k, y_k, x_n, y_n, sampling_points\u001B[38;5;241m=\u001B[39m\u001B[38;5;241m32\u001B[39m: \\\n\u001B[1;32m     51\u001B[0m                       boschloo_exact([[x_k, y_k],\n\u001B[1;32m     52\u001B[0m                                       [x_n \u001B[38;5;241m-\u001B[39m x_k, y_n \u001B[38;5;241m-\u001B[39m y_k]],\n\u001B[1;32m     53\u001B[0m                                      n\u001B[38;5;241m=\u001B[39msampling_points,\n\u001B[1;32m     54\u001B[0m                                      alternative\u001B[38;5;241m=\u001B[39m\u001B[38;5;124m\"\u001B[39m\u001B[38;5;124mtwo-sided\u001B[39m\u001B[38;5;124m\"\u001B[39m)\u001B[38;5;241m.\u001B[39mpvalue\n\u001B[1;32m     55\u001B[0m }, {\n\u001B[1;32m     56\u001B[0m     \u001B[38;5;124m\"\u001B[39m\u001B[38;5;124mname\u001B[39m\u001B[38;5;124m\"\u001B[39m: \u001B[38;5;124m\"\u001B[39m\u001B[38;5;124mFisher’s exact test\u001B[39m\u001B[38;5;124m\"\u001B[39m,\n\u001B[1;32m     57\u001B[0m     \u001B[38;5;124m\"\u001B[39m\u001B[38;5;124mp_value\u001B[39m\u001B[38;5;124m\"\u001B[39m: \u001B[38;5;28;01mlambda\u001B[39;00m x_k, y_k, x_n, y_n: \\\n\u001B[0;32m---> 58\u001B[0m         fisher_exact([[x_k, y_k],\n\u001B[1;32m     59\u001B[0m                       [x_n \u001B[38;5;241m-\u001B[39m x_k, y_n \u001B[38;5;241m-\u001B[39m y_k]],\n\u001B[1;32m     60\u001B[0m                      alternative\u001B[38;5;241m=\u001B[39m\u001B[38;5;124m\"\u001B[39m\u001B[38;5;124mtwo-sided\u001B[39m\u001B[38;5;124m\"\u001B[39m)\u001B[38;5;241m.\u001B[39mpvalue\n\u001B[1;32m     61\u001B[0m }, {\n\u001B[1;32m     62\u001B[0m     \u001B[38;5;124m\"\u001B[39m\u001B[38;5;124mname\u001B[39m\u001B[38;5;124m\"\u001B[39m: \u001B[38;5;124m\"\u001B[39m\u001B[38;5;124mG-test\u001B[39m\u001B[38;5;124m\"\u001B[39m,\n\u001B[1;32m     63\u001B[0m     \u001B[38;5;124m\"\u001B[39m\u001B[38;5;124mp_value\u001B[39m\u001B[38;5;124m\"\u001B[39m: \u001B[38;5;28;01mlambda\u001B[39;00m x_k, y_k, x_n, y_n: g_test_adjusted(x_k, y_k, x_n, y_n)\u001B[38;5;241m.\u001B[39mpvalue\n\u001B[1;32m     64\u001B[0m }, {\n\u001B[1;32m     65\u001B[0m     \u001B[38;5;124m\"\u001B[39m\u001B[38;5;124mname\u001B[39m\u001B[38;5;124m\"\u001B[39m: \u001B[38;5;124m\"\u001B[39m\u001B[38;5;124mPoisson means test\u001B[39m\u001B[38;5;124m\"\u001B[39m,\n\u001B[1;32m     66\u001B[0m     \u001B[38;5;124m\"\u001B[39m\u001B[38;5;124mp_value\u001B[39m\u001B[38;5;124m\"\u001B[39m: \u001B[38;5;28;01mlambda\u001B[39;00m x_k, y_k, x_n, y_n: \\\n\u001B[1;32m     67\u001B[0m         poisson_means_test(x_k, x_n, y_k, y_n,\n\u001B[1;32m     68\u001B[0m                            alternative\u001B[38;5;241m=\u001B[39m\u001B[38;5;124m\"\u001B[39m\u001B[38;5;124mtwo-sided\u001B[39m\u001B[38;5;124m\"\u001B[39m)\u001B[38;5;241m.\u001B[39mpvalue\n\u001B[1;32m     69\u001B[0m }, {\n\u001B[1;32m     70\u001B[0m     \u001B[38;5;124m\"\u001B[39m\u001B[38;5;124mname\u001B[39m\u001B[38;5;124m\"\u001B[39m: \u001B[38;5;124m\"\u001B[39m\u001B[38;5;124mZ-test\u001B[39m\u001B[38;5;124m\"\u001B[39m,\n\u001B[1;32m     71\u001B[0m     \u001B[38;5;124m\"\u001B[39m\u001B[38;5;124mp_value\u001B[39m\u001B[38;5;124m\"\u001B[39m: \u001B[38;5;28;01mlambda\u001B[39;00m x_k, y_k, x_n, y_n: \\\n\u001B[1;32m     72\u001B[0m         proportions_ztest([x_k, y_k],\n\u001B[1;32m     73\u001B[0m                           [x_n, y_n],\n\u001B[1;32m     74\u001B[0m                           alternative\u001B[38;5;241m=\u001B[39m\u001B[38;5;124m\"\u001B[39m\u001B[38;5;124mtwo-sided\u001B[39m\u001B[38;5;124m\"\u001B[39m)[\u001B[38;5;241m1\u001B[39m]\n\u001B[1;32m     75\u001B[0m }, {\n\u001B[1;32m     76\u001B[0m     \u001B[38;5;124m\"\u001B[39m\u001B[38;5;124mname\u001B[39m\u001B[38;5;124m\"\u001B[39m: \u001B[38;5;124m\"\u001B[39m\u001B[38;5;124mChi-square test\u001B[39m\u001B[38;5;124m\"\u001B[39m,\n\u001B[1;32m     77\u001B[0m     \u001B[38;5;124m\"\u001B[39m\u001B[38;5;124mp_value\u001B[39m\u001B[38;5;124m\"\u001B[39m: \u001B[38;5;28;01mlambda\u001B[39;00m x_k, y_k, x_n, y_n: \\\n\u001B[1;32m     78\u001B[0m         proportions_chisquare([x_k, y_k],\n\u001B[1;32m     79\u001B[0m                               [x_n, y_n])[\u001B[38;5;241m1\u001B[39m]\n\u001B[1;32m     80\u001B[0m }]\n\u001B[1;32m     82\u001B[0m \u001B[38;5;28;01mreturn\u001B[39;00m test_list\n",
      "File \u001B[0;32m~/anaconda3/lib/python3.11/site-packages/scipy/stats/_stats_py.py:5138\u001B[0m, in \u001B[0;36mfisher_exact\u001B[0;34m(table, alternative)\u001B[0m\n\u001B[1;32m   5136\u001B[0m mode \u001B[38;5;241m=\u001B[39m \u001B[38;5;28mint\u001B[39m((n \u001B[38;5;241m+\u001B[39m \u001B[38;5;241m1\u001B[39m) \u001B[38;5;241m*\u001B[39m (n1 \u001B[38;5;241m+\u001B[39m \u001B[38;5;241m1\u001B[39m) \u001B[38;5;241m/\u001B[39m (n1 \u001B[38;5;241m+\u001B[39m n2 \u001B[38;5;241m+\u001B[39m \u001B[38;5;241m2\u001B[39m))\n\u001B[1;32m   5137\u001B[0m pexact \u001B[38;5;241m=\u001B[39m hypergeom\u001B[38;5;241m.\u001B[39mpmf(c[\u001B[38;5;241m0\u001B[39m, \u001B[38;5;241m0\u001B[39m], n1 \u001B[38;5;241m+\u001B[39m n2, n1, n)\n\u001B[0;32m-> 5138\u001B[0m pmode \u001B[38;5;241m=\u001B[39m hypergeom\u001B[38;5;241m.\u001B[39mpmf(mode, n1 \u001B[38;5;241m+\u001B[39m n2, n1, n)\n\u001B[1;32m   5140\u001B[0m epsilon \u001B[38;5;241m=\u001B[39m \u001B[38;5;241m1e-14\u001B[39m\n\u001B[1;32m   5141\u001B[0m gamma \u001B[38;5;241m=\u001B[39m \u001B[38;5;241m1\u001B[39m \u001B[38;5;241m+\u001B[39m epsilon\n",
      "File \u001B[0;32m~/anaconda3/lib/python3.11/site-packages/scipy/stats/_distn_infrastructure.py:3378\u001B[0m, in \u001B[0;36mrv_discrete.pmf\u001B[0;34m(self, k, *args, **kwds)\u001B[0m\n\u001B[1;32m   3376\u001B[0m \u001B[38;5;28;01mif\u001B[39;00m np\u001B[38;5;241m.\u001B[39many(cond):\n\u001B[1;32m   3377\u001B[0m     goodargs \u001B[38;5;241m=\u001B[39m argsreduce(cond, \u001B[38;5;241m*\u001B[39m((k,)\u001B[38;5;241m+\u001B[39margs))\n\u001B[0;32m-> 3378\u001B[0m     place(output, cond, np\u001B[38;5;241m.\u001B[39mclip(\u001B[38;5;28mself\u001B[39m\u001B[38;5;241m.\u001B[39m_pmf(\u001B[38;5;241m*\u001B[39mgoodargs), \u001B[38;5;241m0\u001B[39m, \u001B[38;5;241m1\u001B[39m))\n\u001B[1;32m   3379\u001B[0m \u001B[38;5;28;01mif\u001B[39;00m output\u001B[38;5;241m.\u001B[39mndim \u001B[38;5;241m==\u001B[39m \u001B[38;5;241m0\u001B[39m:\n\u001B[1;32m   3380\u001B[0m     \u001B[38;5;28;01mreturn\u001B[39;00m output[()]\n",
      "File \u001B[0;32m<__array_function__ internals>:200\u001B[0m, in \u001B[0;36mplace\u001B[0;34m(*args, **kwargs)\u001B[0m\n",
      "File \u001B[0;32m~/anaconda3/lib/python3.11/site-packages/numpy/lib/function_base.py:1954\u001B[0m, in \u001B[0;36mplace\u001B[0;34m(arr, mask, vals)\u001B[0m\n\u001B[1;32m   1950\u001B[0m \u001B[38;5;28;01mif\u001B[39;00m \u001B[38;5;129;01mnot\u001B[39;00m \u001B[38;5;28misinstance\u001B[39m(arr, np\u001B[38;5;241m.\u001B[39mndarray):\n\u001B[1;32m   1951\u001B[0m     \u001B[38;5;28;01mraise\u001B[39;00m \u001B[38;5;167;01mTypeError\u001B[39;00m(\u001B[38;5;124m\"\u001B[39m\u001B[38;5;124margument 1 must be numpy.ndarray, \u001B[39m\u001B[38;5;124m\"\u001B[39m\n\u001B[1;32m   1952\u001B[0m                     \u001B[38;5;124m\"\u001B[39m\u001B[38;5;124mnot \u001B[39m\u001B[38;5;132;01m{name}\u001B[39;00m\u001B[38;5;124m\"\u001B[39m\u001B[38;5;241m.\u001B[39mformat(name\u001B[38;5;241m=\u001B[39m\u001B[38;5;28mtype\u001B[39m(arr)\u001B[38;5;241m.\u001B[39m\u001B[38;5;18m__name__\u001B[39m))\n\u001B[0;32m-> 1954\u001B[0m \u001B[38;5;28;01mreturn\u001B[39;00m _insert(arr, mask, vals)\n",
      "\u001B[0;31mKeyboardInterrupt\u001B[0m: "
     ]
    }
   ],
   "source": [
    "simulation_param_list = [\n",
    "    PValueSimulationParams(x_sample_size=sample_size_couple[\"x\"],\n",
    "                           y_sample_size=sample_size_couple[\"y\"],\n",
    "                           x_p=p, y_p=p, iter_size=50000)\n",
    "    for p in p_list\n",
    "    for sample_size_couple in sample_size_list\n",
    "]\n",
    "simulation = PValueSimulation(simulation_param_list=simulation_param_list,\n",
    "                              dir_list=dir_list)\n",
    "\n",
    "simulation.simulate(random_state=42,\n",
    "                    custom_test_name_list=[\"Fisher’s exact test\", \n",
    "                                           \"G-test\",\n",
    "                                           \"Poisson means test\",\n",
    "                                           \"Z-test\",\n",
    "                                           \"Chi-square test\"],\n",
    "                    rewrite_result=False,\n",
    "                    tqdm_disable=False)"
   ],
   "metadata": {
    "collapsed": false,
    "ExecuteTime": {
     "end_time": "2023-10-14T16:30:07.078706Z",
     "start_time": "2023-10-14T16:29:50.494268Z"
    }
   },
   "id": "262136159bc600b7"
  },
  {
   "cell_type": "code",
   "execution_count": null,
   "outputs": [],
   "source": [
    "simulation_param_list = [\n",
    "    PValueSimulationParams(x_sample_size=sample_size_couple[\"x\"],\n",
    "                           y_sample_size=sample_size_couple[\"y\"],\n",
    "                           x_p=p, y_p=p, iter_size=1000)\n",
    "    for p in p_list\n",
    "    for sample_size_couple in sample_size_list\n",
    "]\n",
    "simulation = PValueSimulation(simulation_param_list=simulation_param_list,\n",
    "                              dir_list=dir_list)\n",
    "\n",
    "simulation.simulate(random_state=42,\n",
    "                    custom_test_name_list=[\"Barnard’s exact test\",\n",
    "                                           \"Boschloo’s exact test\"],\n",
    "                    rewrite_result=False,\n",
    "                    tqdm_disable=False)"
   ],
   "metadata": {
    "collapsed": false
   },
   "id": "6249d47194ccf094"
  },
  {
   "cell_type": "code",
   "execution_count": null,
   "outputs": [],
   "source": [
    "simulation.simulate(random_state=42,\n",
    "                    custom_test_name_list=[\"Z-test\", \"Fisher’s exact test\"],\n",
    "                    rewrite_result=True,\n",
    "                    tqdm_disable=False)\n",
    "simulation.simulate(random_state=42,\n",
    "                    custom_test_name_list=[\"Boschloo’s exact test\"],\n",
    "                    rewrite_result=False,\n",
    "                    tqdm_disable=False)"
   ],
   "metadata": {
    "collapsed": false
   },
   "id": "98dbcfea4827767e"
  },
  {
   "cell_type": "code",
   "execution_count": null,
   "outputs": [],
   "source": [],
   "metadata": {
    "collapsed": false
   },
   "id": "342cd99a36fc263c"
  },
  {
   "cell_type": "code",
   "execution_count": null,
   "outputs": [],
   "source": [
    "iter_size = 5000\n",
    "default_random_state = 42\n",
    "max_alpha = 1 # 0.1\n",
    "\n",
    "for i, p in enumerate(p_list):\n",
    "    for j, sample_size_couple in enumerate(sample_size_list):\n",
    "        random_state = default_random_state + 2 * (i * len(sample_size_list) + j)\n",
    "        x = binom.rvs(sample_size_couple[\"x\"], p, \n",
    "                      random_state=random_state,\n",
    "                      size=iter_size)\n",
    "        y = binom.rvs(sample_size_couple[\"y\"], p,\n",
    "                      random_state=random_state+1,\n",
    "                      size=iter_size)\n",
    "\n",
    "        title_name = f\"p = {p}, \" \\\n",
    "                     + f\"sample size x = {sample_size_couple['x']}, \" \\\n",
    "                     + f\"y = {sample_size_couple['y']}\"\n",
    "        print(title_name + \"\\n\")\n",
    "        \n",
    "        fig = go.Figure()\n",
    "        fig.add_trace(go.Scatter(x=np.linspace(0, max_alpha, num=iter_size), \n",
    "                                 y=np.linspace(0, max_alpha, num=iter_size),\n",
    "                                 line={\"color\": \"grey\"},\n",
    "                                 name=\"y = x\",\n",
    "                                 mode=\"lines\"))\n",
    "        \n",
    "        for test in test_list:\n",
    "            test[\"p_value_list\"] = []\n",
    "            start_time = time()\n",
    "            \n",
    "            for iter_num in range(iter_size):\n",
    "                p_value = test[\"p_value\"](x[iter_num], y[iter_num],\n",
    "                                          sample_size_couple[\"x\"], sample_size_couple[\"y\"])\n",
    "                test[\"p_value_list\"].append(p_value)\n",
    "            \n",
    "            end_time = time()\n",
    "            print(f\"{test['name']}: {1000 * (end_time - start_time) / iter_size:.2f} ms per test\")\n",
    "\n",
    "            p_value_ecdf = ECDF(test[\"p_value_list\"])\n",
    "            fig.add_trace(go.Scatter(x=p_value_ecdf.x[p_value_ecdf.x <= max_alpha], \n",
    "                                     y=p_value_ecdf.y[p_value_ecdf.x <= max_alpha],\n",
    "                                     name=test[\"name\"],\n",
    "                                     mode=\"lines\"))\n",
    "\n",
    "        fig.update_layout(title=title_name,\n",
    "                          xaxis_title=\"alpha\",\n",
    "                          yaxis_title=\"ECDF p-value\",\n",
    "                          legend_title=\"Criteria\")\n",
    "        fig.show()\n",
    "\n",
    "        p_value_data = pd.DataFrame({\n",
    "            test[\"name\"]: test[\"p_value_list\"]\n",
    "            for test in test_list\n",
    "        }).corr()\n",
    "\n",
    "        fig = go.Figure()\n",
    "        fig.add_trace(go.Heatmap(x=p_value_data.columns,\n",
    "                                 y=p_value_data.index,\n",
    "                                 z=np.array(p_value_data),\n",
    "                                 text=p_value_data.values,\n",
    "                                 texttemplate='%{text:.2f}'))\n",
    "        fig.show()"
   ],
   "metadata": {
    "collapsed": false
   },
   "id": "9ab12109942104e4"
  }
 ],
 "metadata": {
  "kernelspec": {
   "display_name": "Python 3",
   "language": "python",
   "name": "python3"
  },
  "language_info": {
   "codemirror_mode": {
    "name": "ipython",
    "version": 2
   },
   "file_extension": ".py",
   "mimetype": "text/x-python",
   "name": "python",
   "nbconvert_exporter": "python",
   "pygments_lexer": "ipython2",
   "version": "2.7.6"
  }
 },
 "nbformat": 4,
 "nbformat_minor": 5
}
